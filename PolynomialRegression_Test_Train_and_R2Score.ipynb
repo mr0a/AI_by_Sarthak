{
  "nbformat": 4,
  "nbformat_minor": 0,
  "metadata": {
    "colab": {
      "name": "PolynomialRegression, Test/Train and R2Score.ipynb",
      "provenance": []
    },
    "kernelspec": {
      "name": "python3",
      "display_name": "Python 3"
    },
    "language_info": {
      "name": "python"
    }
  },
  "cells": [
    {
      "cell_type": "markdown",
      "metadata": {
        "id": "U0zHC7QWsy9T"
      },
      "source": [
        "# Day 3\n",
        "[![Open In Colab](https://colab.research.google.com/assets/colab-badge.svg)](https://github.com/mr0a/AI_by_Sarthak/blob/master/PolynomialRegression_Test_Train_and_R2Score.ipynb)\n",
        "\n",
        "# Polynomial Regression"
      ]
    },
    {
      "cell_type": "code",
      "metadata": {
        "id": "A5govOrFf7kQ"
      },
      "source": [
        "import pandas as pd"
      ],
      "execution_count": 1,
      "outputs": []
    },
    {
      "cell_type": "code",
      "metadata": {
        "id": "yT1KXMdXgGDF"
      },
      "source": [
        "df = pd.read_csv('data.csv')"
      ],
      "execution_count": 3,
      "outputs": []
    },
    {
      "cell_type": "code",
      "metadata": {
        "colab": {
          "base_uri": "https://localhost:8080/",
          "height": 284
        },
        "id": "Gi8GthiDgZmq",
        "outputId": "240751b7-a24b-482a-96bd-d61245869246"
      },
      "source": [
        "df.describe()"
      ],
      "execution_count": 4,
      "outputs": [
        {
          "output_type": "execute_result",
          "data": {
            "text/html": [
              "<div>\n",
              "<style scoped>\n",
              "    .dataframe tbody tr th:only-of-type {\n",
              "        vertical-align: middle;\n",
              "    }\n",
              "\n",
              "    .dataframe tbody tr th {\n",
              "        vertical-align: top;\n",
              "    }\n",
              "\n",
              "    .dataframe thead th {\n",
              "        text-align: right;\n",
              "    }\n",
              "</style>\n",
              "<table border=\"1\" class=\"dataframe\">\n",
              "  <thead>\n",
              "    <tr style=\"text-align: right;\">\n",
              "      <th></th>\n",
              "      <th>Duration</th>\n",
              "      <th>Average_Pulse</th>\n",
              "      <th>Max_Pulse</th>\n",
              "      <th>Calorie_Burnage</th>\n",
              "      <th>Hours_Work</th>\n",
              "      <th>Hours_Sleep</th>\n",
              "    </tr>\n",
              "  </thead>\n",
              "  <tbody>\n",
              "    <tr>\n",
              "      <th>count</th>\n",
              "      <td>163.000000</td>\n",
              "      <td>163.000000</td>\n",
              "      <td>163.000000</td>\n",
              "      <td>163.000000</td>\n",
              "      <td>163.000000</td>\n",
              "      <td>163.000000</td>\n",
              "    </tr>\n",
              "    <tr>\n",
              "      <th>mean</th>\n",
              "      <td>64.263804</td>\n",
              "      <td>107.723926</td>\n",
              "      <td>134.226994</td>\n",
              "      <td>382.368098</td>\n",
              "      <td>4.386503</td>\n",
              "      <td>7.680982</td>\n",
              "    </tr>\n",
              "    <tr>\n",
              "      <th>std</th>\n",
              "      <td>42.994520</td>\n",
              "      <td>14.625062</td>\n",
              "      <td>16.403967</td>\n",
              "      <td>274.227106</td>\n",
              "      <td>3.923772</td>\n",
              "      <td>0.663934</td>\n",
              "    </tr>\n",
              "    <tr>\n",
              "      <th>min</th>\n",
              "      <td>15.000000</td>\n",
              "      <td>80.000000</td>\n",
              "      <td>100.000000</td>\n",
              "      <td>50.000000</td>\n",
              "      <td>0.000000</td>\n",
              "      <td>5.000000</td>\n",
              "    </tr>\n",
              "    <tr>\n",
              "      <th>25%</th>\n",
              "      <td>45.000000</td>\n",
              "      <td>100.000000</td>\n",
              "      <td>124.000000</td>\n",
              "      <td>256.500000</td>\n",
              "      <td>0.000000</td>\n",
              "      <td>7.500000</td>\n",
              "    </tr>\n",
              "    <tr>\n",
              "      <th>50%</th>\n",
              "      <td>60.000000</td>\n",
              "      <td>105.000000</td>\n",
              "      <td>131.000000</td>\n",
              "      <td>320.000000</td>\n",
              "      <td>5.000000</td>\n",
              "      <td>8.000000</td>\n",
              "    </tr>\n",
              "    <tr>\n",
              "      <th>75%</th>\n",
              "      <td>60.000000</td>\n",
              "      <td>111.000000</td>\n",
              "      <td>141.000000</td>\n",
              "      <td>388.500000</td>\n",
              "      <td>8.000000</td>\n",
              "      <td>8.000000</td>\n",
              "    </tr>\n",
              "    <tr>\n",
              "      <th>max</th>\n",
              "      <td>300.000000</td>\n",
              "      <td>159.000000</td>\n",
              "      <td>184.000000</td>\n",
              "      <td>1860.000000</td>\n",
              "      <td>11.000000</td>\n",
              "      <td>12.000000</td>\n",
              "    </tr>\n",
              "  </tbody>\n",
              "</table>\n",
              "</div>"
            ],
            "text/plain": [
              "         Duration  Average_Pulse  ...  Hours_Work  Hours_Sleep\n",
              "count  163.000000     163.000000  ...  163.000000   163.000000\n",
              "mean    64.263804     107.723926  ...    4.386503     7.680982\n",
              "std     42.994520      14.625062  ...    3.923772     0.663934\n",
              "min     15.000000      80.000000  ...    0.000000     5.000000\n",
              "25%     45.000000     100.000000  ...    0.000000     7.500000\n",
              "50%     60.000000     105.000000  ...    5.000000     8.000000\n",
              "75%     60.000000     111.000000  ...    8.000000     8.000000\n",
              "max    300.000000     159.000000  ...   11.000000    12.000000\n",
              "\n",
              "[8 rows x 6 columns]"
            ]
          },
          "metadata": {
            "tags": []
          },
          "execution_count": 4
        }
      ]
    },
    {
      "cell_type": "markdown",
      "metadata": {
        "id": "lgPaxZ_Ys7Jj"
      },
      "source": [
        "### Feature Selection"
      ]
    },
    {
      "cell_type": "code",
      "metadata": {
        "id": "y9MBUucPgbSD"
      },
      "source": [
        "features = ['Duration',\t'Average_Pulse',\t'Max_Pulse',\t'Calorie_Burnage',\t'Hours_Work']"
      ],
      "execution_count": 12,
      "outputs": []
    },
    {
      "cell_type": "code",
      "metadata": {
        "id": "yttTXLppg0KV"
      },
      "source": [
        "target = ['Hours_Sleep']"
      ],
      "execution_count": 13,
      "outputs": []
    },
    {
      "cell_type": "code",
      "metadata": {
        "id": "pJJqvldRhawq"
      },
      "source": [
        "X = df[features]"
      ],
      "execution_count": 16,
      "outputs": []
    },
    {
      "cell_type": "code",
      "metadata": {
        "id": "GXCI6rEthcsQ"
      },
      "source": [
        "y = df[target]"
      ],
      "execution_count": 17,
      "outputs": []
    },
    {
      "cell_type": "markdown",
      "metadata": {
        "id": "3Eh9pLSzs-JQ"
      },
      "source": [
        "### Model Training"
      ]
    },
    {
      "cell_type": "code",
      "metadata": {
        "id": "QTT97qpzhgxZ"
      },
      "source": [
        "from sklearn import linear_model"
      ],
      "execution_count": 19,
      "outputs": []
    },
    {
      "cell_type": "code",
      "metadata": {
        "id": "NZTqxxHCho4L"
      },
      "source": [
        "regr = linear_model.LinearRegression()"
      ],
      "execution_count": 20,
      "outputs": []
    },
    {
      "cell_type": "code",
      "metadata": {
        "colab": {
          "base_uri": "https://localhost:8080/"
        },
        "id": "RUabZOoPhriW",
        "outputId": "9c573c55-aeee-4924-809c-e805906c9ecf"
      },
      "source": [
        "regr.fit(X, y)"
      ],
      "execution_count": 21,
      "outputs": [
        {
          "output_type": "execute_result",
          "data": {
            "text/plain": [
              "LinearRegression(copy_X=True, fit_intercept=True, n_jobs=None, normalize=False)"
            ]
          },
          "metadata": {
            "tags": []
          },
          "execution_count": 21
        }
      ]
    },
    {
      "cell_type": "code",
      "metadata": {
        "colab": {
          "base_uri": "https://localhost:8080/"
        },
        "id": "DkSFsPGvhuZN",
        "outputId": "abe5433b-87c7-49c2-c4fb-09c8f19ca4c7"
      },
      "source": [
        "regr.coef_ # Weightage of feature in predicting"
      ],
      "execution_count": 23,
      "outputs": [
        {
          "output_type": "execute_result",
          "data": {
            "text/plain": [
              "array([[ 5.97320275e-04, -4.98219018e-03,  5.87937494e-03,\n",
              "         6.57663989e-06, -2.21627241e-02]])"
            ]
          },
          "metadata": {
            "tags": []
          },
          "execution_count": 23
        }
      ]
    },
    {
      "cell_type": "code",
      "metadata": {
        "colab": {
          "base_uri": "https://localhost:8080/"
        },
        "id": "HyEUJ7Rnh6gM",
        "outputId": "398c108d-fbfa-4ee0-a1aa-04bfc7781928"
      },
      "source": [
        "regr.predict([[60, 110,\t130,\t409,\t0.0]])"
      ],
      "execution_count": 27,
      "outputs": [
        {
          "output_type": "execute_result",
          "data": {
            "text/plain": [
              "array([[7.73963483]])"
            ]
          },
          "metadata": {
            "tags": []
          },
          "execution_count": 27
        }
      ]
    },
    {
      "cell_type": "code",
      "metadata": {
        "colab": {
          "base_uri": "https://localhost:8080/",
          "height": 402
        },
        "id": "7F8xARkPh-sv",
        "outputId": "5624fa22-704a-4c1b-8afe-2132a8e82a14"
      },
      "source": [
        "df"
      ],
      "execution_count": 32,
      "outputs": [
        {
          "output_type": "execute_result",
          "data": {
            "text/html": [
              "<div>\n",
              "<style scoped>\n",
              "    .dataframe tbody tr th:only-of-type {\n",
              "        vertical-align: middle;\n",
              "    }\n",
              "\n",
              "    .dataframe tbody tr th {\n",
              "        vertical-align: top;\n",
              "    }\n",
              "\n",
              "    .dataframe thead th {\n",
              "        text-align: right;\n",
              "    }\n",
              "</style>\n",
              "<table border=\"1\" class=\"dataframe\">\n",
              "  <thead>\n",
              "    <tr style=\"text-align: right;\">\n",
              "      <th></th>\n",
              "      <th>Duration</th>\n",
              "      <th>Average_Pulse</th>\n",
              "      <th>Max_Pulse</th>\n",
              "      <th>Calorie_Burnage</th>\n",
              "      <th>Hours_Work</th>\n",
              "      <th>Hours_Sleep</th>\n",
              "    </tr>\n",
              "  </thead>\n",
              "  <tbody>\n",
              "    <tr>\n",
              "      <th>0</th>\n",
              "      <td>60</td>\n",
              "      <td>110</td>\n",
              "      <td>130</td>\n",
              "      <td>409</td>\n",
              "      <td>0.0</td>\n",
              "      <td>8.0</td>\n",
              "    </tr>\n",
              "    <tr>\n",
              "      <th>1</th>\n",
              "      <td>60</td>\n",
              "      <td>117</td>\n",
              "      <td>145</td>\n",
              "      <td>479</td>\n",
              "      <td>0.0</td>\n",
              "      <td>8.0</td>\n",
              "    </tr>\n",
              "    <tr>\n",
              "      <th>2</th>\n",
              "      <td>60</td>\n",
              "      <td>103</td>\n",
              "      <td>135</td>\n",
              "      <td>340</td>\n",
              "      <td>8.0</td>\n",
              "      <td>7.5</td>\n",
              "    </tr>\n",
              "    <tr>\n",
              "      <th>3</th>\n",
              "      <td>45</td>\n",
              "      <td>109</td>\n",
              "      <td>175</td>\n",
              "      <td>282</td>\n",
              "      <td>8.0</td>\n",
              "      <td>8.0</td>\n",
              "    </tr>\n",
              "    <tr>\n",
              "      <th>4</th>\n",
              "      <td>45</td>\n",
              "      <td>117</td>\n",
              "      <td>148</td>\n",
              "      <td>406</td>\n",
              "      <td>0.0</td>\n",
              "      <td>6.5</td>\n",
              "    </tr>\n",
              "    <tr>\n",
              "      <th>...</th>\n",
              "      <td>...</td>\n",
              "      <td>...</td>\n",
              "      <td>...</td>\n",
              "      <td>...</td>\n",
              "      <td>...</td>\n",
              "      <td>...</td>\n",
              "    </tr>\n",
              "    <tr>\n",
              "      <th>158</th>\n",
              "      <td>60</td>\n",
              "      <td>105</td>\n",
              "      <td>140</td>\n",
              "      <td>290</td>\n",
              "      <td>7.0</td>\n",
              "      <td>8.0</td>\n",
              "    </tr>\n",
              "    <tr>\n",
              "      <th>159</th>\n",
              "      <td>60</td>\n",
              "      <td>110</td>\n",
              "      <td>145</td>\n",
              "      <td>300</td>\n",
              "      <td>7.0</td>\n",
              "      <td>8.0</td>\n",
              "    </tr>\n",
              "    <tr>\n",
              "      <th>160</th>\n",
              "      <td>60</td>\n",
              "      <td>115</td>\n",
              "      <td>145</td>\n",
              "      <td>310</td>\n",
              "      <td>8.0</td>\n",
              "      <td>8.0</td>\n",
              "    </tr>\n",
              "    <tr>\n",
              "      <th>161</th>\n",
              "      <td>75</td>\n",
              "      <td>120</td>\n",
              "      <td>150</td>\n",
              "      <td>320</td>\n",
              "      <td>0.0</td>\n",
              "      <td>8.0</td>\n",
              "    </tr>\n",
              "    <tr>\n",
              "      <th>162</th>\n",
              "      <td>75</td>\n",
              "      <td>125</td>\n",
              "      <td>150</td>\n",
              "      <td>330</td>\n",
              "      <td>8.0</td>\n",
              "      <td>8.0</td>\n",
              "    </tr>\n",
              "  </tbody>\n",
              "</table>\n",
              "<p>163 rows × 6 columns</p>\n",
              "</div>"
            ],
            "text/plain": [
              "     Duration  Average_Pulse  ...  Hours_Work  Hours_Sleep\n",
              "0          60            110  ...         0.0          8.0\n",
              "1          60            117  ...         0.0          8.0\n",
              "2          60            103  ...         8.0          7.5\n",
              "3          45            109  ...         8.0          8.0\n",
              "4          45            117  ...         0.0          6.5\n",
              "..        ...            ...  ...         ...          ...\n",
              "158        60            105  ...         7.0          8.0\n",
              "159        60            110  ...         7.0          8.0\n",
              "160        60            115  ...         8.0          8.0\n",
              "161        75            120  ...         0.0          8.0\n",
              "162        75            125  ...         8.0          8.0\n",
              "\n",
              "[163 rows x 6 columns]"
            ]
          },
          "metadata": {
            "tags": []
          },
          "execution_count": 32
        }
      ]
    },
    {
      "cell_type": "markdown",
      "metadata": {
        "id": "oA41g018iwmf"
      },
      "source": [
        "# Scale Features"
      ]
    },
    {
      "cell_type": "code",
      "metadata": {
        "id": "A4O85GFuiyhL"
      },
      "source": [
        "from sklearn.preprocessing import StandardScaler"
      ],
      "execution_count": 33,
      "outputs": []
    },
    {
      "cell_type": "code",
      "metadata": {
        "id": "-_NZCcJMjGhX"
      },
      "source": [
        "scale = StandardScaler()"
      ],
      "execution_count": 34,
      "outputs": []
    },
    {
      "cell_type": "code",
      "metadata": {
        "id": "dBq0RO17jIhD"
      },
      "source": [
        "scaledX = scale.fit_transform(X)"
      ],
      "execution_count": 35,
      "outputs": []
    },
    {
      "cell_type": "code",
      "metadata": {
        "id": "IT5Db7M6jNYJ"
      },
      "source": [
        "print(scaledX)"
      ],
      "execution_count": null,
      "outputs": []
    },
    {
      "cell_type": "code",
      "metadata": {
        "id": "wI1dkqafjOt3"
      },
      "source": [
        "regr2 = linear_model.LinearRegression()"
      ],
      "execution_count": 37,
      "outputs": []
    },
    {
      "cell_type": "code",
      "metadata": {
        "colab": {
          "base_uri": "https://localhost:8080/"
        },
        "id": "qXX1ji2HjSL4",
        "outputId": "d0e5969c-e485-4020-fd0f-3ce69003dd38"
      },
      "source": [
        "regr2.fit(scaledX, y)"
      ],
      "execution_count": 39,
      "outputs": [
        {
          "output_type": "execute_result",
          "data": {
            "text/plain": [
              "LinearRegression(copy_X=True, fit_intercept=True, n_jobs=None, normalize=False)"
            ]
          },
          "metadata": {
            "tags": []
          },
          "execution_count": 39
        }
      ]
    },
    {
      "cell_type": "code",
      "metadata": {
        "id": "ZHB6W9aqjg6Y"
      },
      "source": [
        "scaledTest = scale.transform([[60,\t110,\t130,\t409,\t0.0]])"
      ],
      "execution_count": 44,
      "outputs": []
    },
    {
      "cell_type": "code",
      "metadata": {
        "colab": {
          "base_uri": "https://localhost:8080/"
        },
        "id": "TDQ4K85dkAFy",
        "outputId": "67c47c6c-591e-4b39-e334-8dd4bfc6ef14"
      },
      "source": [
        "scaledTest"
      ],
      "execution_count": 49,
      "outputs": [
        {
          "output_type": "execute_result",
          "data": {
            "text/plain": [
              "array([[-0.09947648,  0.1561079 , -0.25847529,  0.09741551, -1.12137515]])"
            ]
          },
          "metadata": {
            "tags": []
          },
          "execution_count": 49
        }
      ]
    },
    {
      "cell_type": "code",
      "metadata": {
        "colab": {
          "base_uri": "https://localhost:8080/"
        },
        "id": "u4L30nAmkCaz",
        "outputId": "0393eaf5-637e-4426-9030-8e7edc7d256e"
      },
      "source": [
        "[scaledTest[0]]"
      ],
      "execution_count": 50,
      "outputs": [
        {
          "output_type": "execute_result",
          "data": {
            "text/plain": [
              "[array([-0.09947648,  0.1561079 , -0.25847529,  0.09741551, -1.12137515])]"
            ]
          },
          "metadata": {
            "tags": []
          },
          "execution_count": 50
        }
      ]
    },
    {
      "cell_type": "code",
      "metadata": {
        "colab": {
          "base_uri": "https://localhost:8080/"
        },
        "id": "zsORqVNojgmL",
        "outputId": "30eebdb8-32b5-4265-8fd3-5438e6dc40bb"
      },
      "source": [
        "regr2.predict([scaledTest[0]])"
      ],
      "execution_count": 48,
      "outputs": [
        {
          "output_type": "execute_result",
          "data": {
            "text/plain": [
              "array([[7.73963483]])"
            ]
          },
          "metadata": {
            "tags": []
          },
          "execution_count": 48
        }
      ]
    },
    {
      "cell_type": "markdown",
      "metadata": {
        "id": "KtI7iGR6kZoD"
      },
      "source": [
        "# Train / Test"
      ]
    },
    {
      "cell_type": "code",
      "metadata": {
        "id": "mIS2N1yjkcSN"
      },
      "source": [
        "import numpy"
      ],
      "execution_count": 52,
      "outputs": []
    },
    {
      "cell_type": "code",
      "metadata": {
        "id": "K4ma663Qk1Ie"
      },
      "source": [
        "import matplotlib.pyplot as plt"
      ],
      "execution_count": 53,
      "outputs": []
    },
    {
      "cell_type": "code",
      "metadata": {
        "id": "av-BOSDsk7RX"
      },
      "source": [
        "numpy.random.seed(2)"
      ],
      "execution_count": 54,
      "outputs": []
    },
    {
      "cell_type": "code",
      "metadata": {
        "id": "Ogor8fgDk-Ki"
      },
      "source": [
        "x = numpy.random.normal(3,1,100)"
      ],
      "execution_count": 59,
      "outputs": []
    },
    {
      "cell_type": "code",
      "metadata": {
        "id": "CR2KosmHlUqP"
      },
      "source": [
        "y = numpy.random.normal(150, 40, 100)/x"
      ],
      "execution_count": 60,
      "outputs": []
    },
    {
      "cell_type": "code",
      "metadata": {
        "colab": {
          "base_uri": "https://localhost:8080/",
          "height": 282
        },
        "id": "GKVoFvChlbAx",
        "outputId": "d55d2064-792b-4774-f6c9-ff79817e40ce"
      },
      "source": [
        "plt.scatter(x, y)"
      ],
      "execution_count": 62,
      "outputs": [
        {
          "output_type": "execute_result",
          "data": {
            "text/plain": [
              "<matplotlib.collections.PathCollection at 0x7fc2fecf1690>"
            ]
          },
          "metadata": {
            "tags": []
          },
          "execution_count": 62
        },
        {
          "output_type": "display_data",
          "data": {
            "image/png": "[encoded data removed]",
            "text/plain": [
              "<Figure size 432x288 with 1 Axes>"
            ]
          },
          "metadata": {
            "tags": [],
            "needs_background": "light"
          }
        }
      ]
    },
    {
      "cell_type": "code",
      "metadata": {
        "id": "Ehz6L7tXle2N"
      },
      "source": [
        "train_x = x[:80]\n",
        "train_y = y[:80]"
      ],
      "execution_count": 66,
      "outputs": []
    },
    {
      "cell_type": "code",
      "metadata": {
        "id": "laEom5xnllk_"
      },
      "source": [
        "test_x = x[80:]\n",
        "test_y = y[80:]"
      ],
      "execution_count": 64,
      "outputs": []
    },
    {
      "cell_type": "code",
      "metadata": {
        "colab": {
          "base_uri": "https://localhost:8080/",
          "height": 282
        },
        "id": "A4JEslDoltt7",
        "outputId": "09eab209-5edb-43da-906e-42749c55c627"
      },
      "source": [
        "plt.scatter(train_x, train_y)"
      ],
      "execution_count": 67,
      "outputs": [
        {
          "output_type": "execute_result",
          "data": {
            "text/plain": [
              "<matplotlib.collections.PathCollection at 0x7fc2fe77bd50>"
            ]
          },
          "metadata": {
            "tags": []
          },
          "execution_count": 67
        },
        {
          "output_type": "display_data",
          "data": {
            "image/png": "[encoded data removed]",
            "text/plain": [
              "<Figure size 432x288 with 1 Axes>"
            ]
          },
          "metadata": {
            "tags": [],
            "needs_background": "light"
          }
        }
      ]
    },
    {
      "cell_type": "code",
      "metadata": {
        "id": "vKkcv_YXlw40"
      },
      "source": [
        "polymodel = numpy.poly1d(numpy.polyfit(train_x, train_y, 4))"
      ],
      "execution_count": 89,
      "outputs": []
    },
    {
      "cell_type": "code",
      "metadata": {
        "id": "48bdpZBFnbVC"
      },
      "source": [
        "polyline = numpy.linspace(0, 6, 100)"
      ],
      "execution_count": 90,
      "outputs": []
    },
    {
      "cell_type": "code",
      "metadata": {
        "colab": {
          "base_uri": "https://localhost:8080/",
          "height": 265
        },
        "id": "8km71whhnj9O",
        "outputId": "2203d538-a6f2-438c-e517-b56e1d9cbd11"
      },
      "source": [
        "plt.plot(polyline, polymodel(polyline))\n",
        "plt.scatter(train_x, train_y)\n",
        "plt.show()"
      ],
      "execution_count": 91,
      "outputs": [
        {
          "output_type": "display_data",
          "data": {
            "image/png": "[encoded data removed]",
            "text/plain": [
              "<Figure size 432x288 with 1 Axes>"
            ]
          },
          "metadata": {
            "tags": [],
            "needs_background": "light"
          }
        }
      ]
    },
    {
      "cell_type": "markdown",
      "metadata": {
        "id": "4jcJHhwLrOrl"
      },
      "source": [
        "# R Square of R2 Score\n",
        "### The relation between x and y\n",
        "- The relation is very good if r2 score is .9 or more"
      ]
    },
    {
      "cell_type": "code",
      "metadata": {
        "id": "LSxGEpe7rRY-"
      },
      "source": [
        "from sklearn.metrics import r2_score"
      ],
      "execution_count": 92,
      "outputs": []
    },
    {
      "cell_type": "code",
      "metadata": {
        "colab": {
          "base_uri": "https://localhost:8080/"
        },
        "id": "EZiL2TaXrUZx",
        "outputId": "513d9612-c568-407d-804e-e9fe9e995842"
      },
      "source": [
        "r2 = r2_score(train_y, polymodel(train_x))\n",
        "r2"
      ],
      "execution_count": 94,
      "outputs": [
        {
          "output_type": "execute_result",
          "data": {
            "text/plain": [
              "0.7690986185168589"
            ]
          },
          "metadata": {
            "tags": []
          },
          "execution_count": 94
        }
      ]
    },
    {
      "cell_type": "code",
      "metadata": {
        "colab": {
          "base_uri": "https://localhost:8080/"
        },
        "id": "ITC4XoTCrcIS",
        "outputId": "94f2d02a-bfa3-47eb-bc3e-d0c9e7fe6647"
      },
      "source": [
        "r2_score(test_y, polymodel(test_x))"
      ],
      "execution_count": 95,
      "outputs": [
        {
          "output_type": "execute_result",
          "data": {
            "text/plain": [
              "0.7327894851349233"
            ]
          },
          "metadata": {
            "tags": []
          },
          "execution_count": 95
        }
      ]
    }
  ]
}