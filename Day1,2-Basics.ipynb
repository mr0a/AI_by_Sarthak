{
  "nbformat": 4,
  "nbformat_minor": 0,
  "metadata": {
    "colab": {
      "name": "Untitled70.ipynb",
      "provenance": []
    },
    "kernelspec": {
      "name": "python3",
      "display_name": "Python 3"
    },
    "language_info": {
      "name": "python"
    }
  },
  "cells": [
    {
      "source": [
        "## Python Basics"
      ],
      "cell_type": "markdown",
      "metadata": {}
    },
    {
      "cell_type": "code",
      "metadata": {
        "colab": {
          "base_uri": "https://localhost:8080/"
        },
        "id": "qij0B7C1YZwk",
        "outputId": "617f111a-488c-4de1-b713-d1d19ecfea1e"
      },
      "source": [
        "print('Hello, World at BIT')"
      ],
      "execution_count": null,
      "outputs": [
        {
          "output_type": "stream",
          "text": [
            "Hello, World at BIT\n"
          ],
          "name": "stdout"
        }
      ]
    },
    {
      "cell_type": "code",
      "metadata": {
        "colab": {
          "base_uri": "https://localhost:8080/"
        },
        "id": "sUuETcO2Yn-H",
        "outputId": "b58fc899-c23f-493c-c049-5ea9a4496500"
      },
      "source": [
        "!python --version"
      ],
      "execution_count": null,
      "outputs": [
        {
          "output_type": "stream",
          "text": [
            "Python 3.7.10\n"
          ],
          "name": "stdout"
        }
      ]
    },
    {
      "cell_type": "code",
      "metadata": {
        "colab": {
          "base_uri": "https://localhost:8080/"
        },
        "id": "yOnm5OJLY8DZ",
        "outputId": "8ad5f11c-3ca4-42ca-c54e-47f649a83d7d"
      },
      "source": [
        "if (5>3):\n",
        "  print(\"Five is greater than 3\")"
      ],
      "execution_count": null,
      "outputs": [
        {
          "output_type": "stream",
          "text": [
            "Five is greater than 3\n"
          ],
          "name": "stdout"
        }
      ]
    },
    {
      "cell_type": "code",
      "metadata": {
        "colab": {
          "base_uri": "https://localhost:8080/"
        },
        "id": "buGGL0wJZRsp",
        "outputId": "b4610de9-02ee-4c3d-eeac-c34ccda40b84"
      },
      "source": [
        "if (5>3):\n",
        "  print(\"Five is greater than 3\")\n",
        "if (5>8):\n",
        "  print(\"Five is greater than 8\")"
      ],
      "execution_count": null,
      "outputs": [
        {
          "output_type": "stream",
          "text": [
            "Five is greater than 3\n"
          ],
          "name": "stdout"
        }
      ]
    },
    {
      "cell_type": "code",
      "metadata": {
        "colab": {
          "base_uri": "https://localhost:8080/"
        },
        "id": "UEIt7WyVZXtW",
        "outputId": "57ebe5e7-2fff-429e-ce8a-cadd78ad28c1"
      },
      "source": [
        "x = 5\n",
        "y = \"Harish\"\n",
        "print(x)\n",
        "print(y)"
      ],
      "execution_count": null,
      "outputs": [
        {
          "output_type": "stream",
          "text": [
            "5\n",
            "Harish\n"
          ],
          "name": "stdout"
        }
      ]
    },
    {
      "cell_type": "code",
      "metadata": {
        "colab": {
          "base_uri": "https://localhost:8080/"
        },
        "id": "fcd_5bMuZiqg",
        "outputId": "892e03b2-7c52-41d0-f2ba-126ceb546458"
      },
      "source": [
        "print(type(x))"
      ],
      "execution_count": null,
      "outputs": [
        {
          "output_type": "stream",
          "text": [
            "<class 'int'>\n"
          ],
          "name": "stdout"
        }
      ]
    },
    {
      "cell_type": "code",
      "metadata": {
        "colab": {
          "base_uri": "https://localhost:8080/"
        },
        "id": "9hqsyFJcZsrm",
        "outputId": "b81da8a4-bc90-46ca-b701-598901594ab3"
      },
      "source": [
        "print(type(y))"
      ],
      "execution_count": null,
      "outputs": [
        {
          "output_type": "stream",
          "text": [
            "<class 'str'>\n"
          ],
          "name": "stdout"
        }
      ]
    },
    {
      "cell_type": "code",
      "metadata": {
        "colab": {
          "base_uri": "https://localhost:8080/"
        },
        "id": "z_rdYe-iZvSI",
        "outputId": "22242e0b-50b8-486b-b090-de253c2e55c1"
      },
      "source": [
        "z = input()"
      ],
      "execution_count": null,
      "outputs": [
        {
          "output_type": "stream",
          "text": [
            "10\n"
          ],
          "name": "stdout"
        }
      ]
    },
    {
      "cell_type": "code",
      "metadata": {
        "colab": {
          "base_uri": "https://localhost:8080/",
          "height": 35
        },
        "id": "XvYk4RIjZyYp",
        "outputId": "e473333d-0d08-45aa-f4d9-9096f78d393b"
      },
      "source": [
        "z"
      ],
      "execution_count": null,
      "outputs": [
        {
          "output_type": "execute_result",
          "data": {
            "application/vnd.google.colaboratory.intrinsic+json": {
              "type": "string"
            },
            "text/plain": [
              "'10'"
            ]
          },
          "metadata": {
            "tags": []
          },
          "execution_count": 11
        }
      ]
    },
    {
      "cell_type": "code",
      "metadata": {
        "colab": {
          "base_uri": "https://localhost:8080/"
        },
        "id": "jIS53WLkZz83",
        "outputId": "59c9ccca-da39-4829-bdd6-eacfe28567d0"
      },
      "source": [
        "print(type(z))"
      ],
      "execution_count": null,
      "outputs": [
        {
          "output_type": "stream",
          "text": [
            "<class 'str'>\n"
          ],
          "name": "stdout"
        }
      ]
    },
    {
      "cell_type": "code",
      "metadata": {
        "id": "EdEh1uvoZ2xB"
      },
      "source": [
        "h = z+z"
      ],
      "execution_count": null,
      "outputs": []
    },
    {
      "cell_type": "code",
      "metadata": {
        "colab": {
          "base_uri": "https://localhost:8080/",
          "height": 35
        },
        "id": "50_-ndK8Z6cZ",
        "outputId": "165dac6f-802c-434b-ac42-369b4b88136f"
      },
      "source": [
        "h"
      ],
      "execution_count": null,
      "outputs": [
        {
          "output_type": "execute_result",
          "data": {
            "application/vnd.google.colaboratory.intrinsic+json": {
              "type": "string"
            },
            "text/plain": [
              "'1010'"
            ]
          },
          "metadata": {
            "tags": []
          },
          "execution_count": 14
        }
      ]
    },
    {
      "cell_type": "code",
      "metadata": {
        "id": "hJI64cLqaBD1"
      },
      "source": [
        "z = int(z)"
      ],
      "execution_count": null,
      "outputs": []
    },
    {
      "cell_type": "code",
      "metadata": {
        "id": "AAjylOZ_aDl_"
      },
      "source": [
        "m = z+z"
      ],
      "execution_count": null,
      "outputs": []
    },
    {
      "cell_type": "code",
      "metadata": {
        "colab": {
          "base_uri": "https://localhost:8080/"
        },
        "id": "4B4zjiiJaF6D",
        "outputId": "0dfba228-1604-437b-ff19-69638a3d3097"
      },
      "source": [
        "m"
      ],
      "execution_count": null,
      "outputs": [
        {
          "output_type": "execute_result",
          "data": {
            "text/plain": [
              "20"
            ]
          },
          "metadata": {
            "tags": []
          },
          "execution_count": 17
        }
      ]
    },
    {
      "cell_type": "code",
      "metadata": {
        "id": "Cm3IX1pZaGbD"
      },
      "source": [
        "def f(x):\n",
        "  ans = x*x\n",
        "  print(ans)"
      ],
      "execution_count": null,
      "outputs": []
    },
    {
      "cell_type": "code",
      "metadata": {
        "colab": {
          "base_uri": "https://localhost:8080/"
        },
        "id": "DYOdd0sjajgm",
        "outputId": "79d22a23-e340-4cb3-bca0-218202931684"
      },
      "source": [
        "f(2)"
      ],
      "execution_count": null,
      "outputs": [
        {
          "output_type": "stream",
          "text": [
            "4\n"
          ],
          "name": "stdout"
        }
      ]
    },
    {
      "cell_type": "code",
      "metadata": {
        "id": "KzE0P2qSamzz"
      },
      "source": [
        "y = '250' #global variable\n",
        "def myfunc():\n",
        "  print(\"Value of y - \"+ y)"
      ],
      "execution_count": null,
      "outputs": []
    },
    {
      "cell_type": "code",
      "metadata": {
        "colab": {
          "base_uri": "https://localhost:8080/"
        },
        "id": "H6R45-YMa2zd",
        "outputId": "7fbf859d-7b5c-486d-a60c-c29f27c29932"
      },
      "source": [
        "myfunc()"
      ],
      "execution_count": null,
      "outputs": [
        {
          "output_type": "stream",
          "text": [
            "Value of y - 250\n"
          ],
          "name": "stdout"
        }
      ]
    },
    {
      "cell_type": "code",
      "metadata": {
        "id": "fFr92qDKa4TV"
      },
      "source": [
        "lst = [1,2,3,4,8,9,6,3]"
      ],
      "execution_count": null,
      "outputs": []
    },
    {
      "cell_type": "code",
      "metadata": {
        "colab": {
          "base_uri": "https://localhost:8080/"
        },
        "id": "9bzboXblbOL_",
        "outputId": "feda804c-e59b-4be3-b3e5-2ace8375a714"
      },
      "source": [
        "for i in lst:\n",
        "  print(i)"
      ],
      "execution_count": null,
      "outputs": [
        {
          "output_type": "stream",
          "text": [
            "1\n",
            "2\n",
            "3\n",
            "4\n",
            "8\n",
            "9\n",
            "6\n",
            "3\n"
          ],
          "name": "stdout"
        }
      ]
    },
    {
      "cell_type": "code",
      "metadata": {
        "colab": {
          "base_uri": "https://localhost:8080/"
        },
        "id": "Xn8dhKizbQrh",
        "outputId": "57a9a72c-be5e-4530-8b3c-8dfdfc136924"
      },
      "source": [
        "lst[3]"
      ],
      "execution_count": null,
      "outputs": [
        {
          "output_type": "execute_result",
          "data": {
            "text/plain": [
              "4"
            ]
          },
          "metadata": {
            "tags": []
          },
          "execution_count": 27
        }
      ]
    },
    {
      "cell_type": "code",
      "metadata": {
        "colab": {
          "base_uri": "https://localhost:8080/"
        },
        "id": "aRDnt_KGbeAY",
        "outputId": "30cd41d4-c553-43ab-aaf3-af4588ddce00"
      },
      "source": [
        "lst[0:3]"
      ],
      "execution_count": null,
      "outputs": [
        {
          "output_type": "execute_result",
          "data": {
            "text/plain": [
              "[1, 2, 3]"
            ]
          },
          "metadata": {
            "tags": []
          },
          "execution_count": 28
        }
      ]
    },
    {
      "cell_type": "code",
      "metadata": {
        "colab": {
          "base_uri": "https://localhost:8080/"
        },
        "id": "2wnnbutucQ3F",
        "outputId": "84ba5f0b-3ba6-48fc-8289-4b9d44ba93a5"
      },
      "source": [
        "lst[1:4]"
      ],
      "execution_count": null,
      "outputs": [
        {
          "output_type": "execute_result",
          "data": {
            "text/plain": [
              "[2, 3, 4]"
            ]
          },
          "metadata": {
            "tags": []
          },
          "execution_count": 29
        }
      ]
    },
    {
      "cell_type": "code",
      "metadata": {
        "colab": {
          "base_uri": "https://localhost:8080/"
        },
        "id": "2ObNrRF7cYe5",
        "outputId": "e4916e83-4ba0-4ffd-ae8d-fc12d27b8614"
      },
      "source": [
        "lst"
      ],
      "execution_count": null,
      "outputs": [
        {
          "output_type": "execute_result",
          "data": {
            "text/plain": [
              "[1, 2, 3, 4, 8, 9, 6, 3]"
            ]
          },
          "metadata": {
            "tags": []
          },
          "execution_count": 33
        }
      ]
    },
    {
      "cell_type": "code",
      "metadata": {
        "colab": {
          "base_uri": "https://localhost:8080/"
        },
        "id": "ldRe-aDvccqx",
        "outputId": "55414f05-77d5-4d67-d0d7-fb3476763c7f"
      },
      "source": [
        "lst[-3:-1]"
      ],
      "execution_count": null,
      "outputs": [
        {
          "output_type": "execute_result",
          "data": {
            "text/plain": [
              "[9, 6]"
            ]
          },
          "metadata": {
            "tags": []
          },
          "execution_count": 35
        }
      ]
    },
    {
      "cell_type": "code",
      "metadata": {
        "colab": {
          "base_uri": "https://localhost:8080/"
        },
        "id": "P9QjOpjycqdk",
        "outputId": "f2c75508-ca79-431f-9947-05990b3c29d8"
      },
      "source": [
        "lst[::-1]  #used to reverse the list"
      ],
      "execution_count": null,
      "outputs": [
        {
          "output_type": "execute_result",
          "data": {
            "text/plain": [
              "[3, 6, 9, 8, 4, 3, 2, 1]"
            ]
          },
          "metadata": {
            "tags": []
          },
          "execution_count": 37
        }
      ]
    },
    {
      "cell_type": "code",
      "metadata": {
        "id": "qjt-bwB6dFT8"
      },
      "source": [
        "str = \"Bannari Amaan\""
      ],
      "execution_count": null,
      "outputs": []
    },
    {
      "cell_type": "code",
      "metadata": {
        "colab": {
          "base_uri": "https://localhost:8080/"
        },
        "id": "011q7f-KdVpP",
        "outputId": "c8142f30-7de4-42d5-953b-d45a38294716"
      },
      "source": [
        "print(str.upper())"
      ],
      "execution_count": null,
      "outputs": [
        {
          "output_type": "stream",
          "text": [
            "BANNARI AMAAN\n"
          ],
          "name": "stdout"
        }
      ]
    },
    {
      "cell_type": "code",
      "metadata": {
        "colab": {
          "base_uri": "https://localhost:8080/"
        },
        "id": "pz78SmUZdaBN",
        "outputId": "719c19af-48cd-4133-ba0e-e0c14f5029fa"
      },
      "source": [
        "print(str.lower())"
      ],
      "execution_count": null,
      "outputs": [
        {
          "output_type": "stream",
          "text": [
            "bannari amaan\n"
          ],
          "name": "stdout"
        }
      ]
    },
    {
      "cell_type": "code",
      "metadata": {
        "colab": {
          "base_uri": "https://localhost:8080/"
        },
        "id": "E5VXv73Sdg3o",
        "outputId": "afef46d9-9f89-4188-817c-eea307077f91"
      },
      "source": [
        "print(str.replace(\"a\",\"$\"))"
      ],
      "execution_count": null,
      "outputs": [
        {
          "output_type": "stream",
          "text": [
            "B$nn$ri Am$$n\n"
          ],
          "name": "stdout"
        }
      ]
    },
    {
      "cell_type": "code",
      "metadata": {
        "colab": {
          "base_uri": "https://localhost:8080/"
        },
        "id": "JO9b_HridrvE",
        "outputId": "e6bddb39-addb-4f50-bc4e-0806309b5927"
      },
      "source": [
        "print(len(str))"
      ],
      "execution_count": null,
      "outputs": [
        {
          "output_type": "stream",
          "text": [
            "13\n"
          ],
          "name": "stdout"
        }
      ]
    },
    {
      "cell_type": "code",
      "metadata": {
        "colab": {
          "base_uri": "https://localhost:8080/"
        },
        "id": "ZUCkawkUeDVn",
        "outputId": "8a64a1c3-65be-4574-fe3a-92df648fb996"
      },
      "source": [
        "True"
      ],
      "execution_count": null,
      "outputs": [
        {
          "output_type": "execute_result",
          "data": {
            "text/plain": [
              "True"
            ]
          },
          "metadata": {
            "tags": []
          },
          "execution_count": 44
        }
      ]
    },
    {
      "cell_type": "code",
      "metadata": {
        "colab": {
          "base_uri": "https://localhost:8080/"
        },
        "id": "U-Bqy_yVeV03",
        "outputId": "14ee6022-b16a-4e3b-db1f-a569c923d648"
      },
      "source": [
        "False"
      ],
      "execution_count": null,
      "outputs": [
        {
          "output_type": "execute_result",
          "data": {
            "text/plain": [
              "False"
            ]
          },
          "metadata": {
            "tags": []
          },
          "execution_count": 45
        }
      ]
    },
    {
      "cell_type": "code",
      "metadata": {
        "colab": {
          "base_uri": "https://localhost:8080/"
        },
        "id": "xKUeLIDbeWaJ",
        "outputId": "7c3316ff-3bcf-4538-a98e-df1840f24d65"
      },
      "source": [
        "print(5>2)"
      ],
      "execution_count": null,
      "outputs": [
        {
          "output_type": "stream",
          "text": [
            "True\n"
          ],
          "name": "stdout"
        }
      ]
    },
    {
      "cell_type": "markdown",
      "metadata": {
        "id": "M1pegLqKehvN"
      },
      "source": [
        "+\n",
        "\n",
        "-\n",
        "\n",
        "*\n",
        "\n",
        "/\n",
        "\n",
        "%\n",
        "\n",
        "**\n",
        "\n",
        "//"
      ]
    },
    {
      "cell_type": "code",
      "metadata": {
        "colab": {
          "base_uri": "https://localhost:8080/"
        },
        "id": "RsaXu54ReamR",
        "outputId": "18f29e8c-9a23-4b28-959b-1547dc635646"
      },
      "source": [
        "print(3%2)"
      ],
      "execution_count": null,
      "outputs": [
        {
          "output_type": "stream",
          "text": [
            "1\n"
          ],
          "name": "stdout"
        }
      ]
    },
    {
      "cell_type": "code",
      "metadata": {
        "colab": {
          "base_uri": "https://localhost:8080/"
        },
        "id": "uDl4u0uueu8t",
        "outputId": "e6695921-2302-4ed6-a872-e575c227e84c"
      },
      "source": [
        "print(2**3)"
      ],
      "execution_count": null,
      "outputs": [
        {
          "output_type": "stream",
          "text": [
            "8\n"
          ],
          "name": "stdout"
        }
      ]
    },
    {
      "cell_type": "code",
      "metadata": {
        "colab": {
          "base_uri": "https://localhost:8080/"
        },
        "id": "kLDQcDHveycm",
        "outputId": "e3d4d20a-10c2-444f-a034-14afd3f7d97b"
      },
      "source": [
        "print(9//2)"
      ],
      "execution_count": null,
      "outputs": [
        {
          "output_type": "stream",
          "text": [
            "4\n"
          ],
          "name": "stdout"
        }
      ]
    },
    {
      "cell_type": "code",
      "metadata": {
        "id": "u8aAINEde26z"
      },
      "source": [
        "c = 1&0"
      ],
      "execution_count": null,
      "outputs": []
    },
    {
      "cell_type": "code",
      "metadata": {
        "colab": {
          "base_uri": "https://localhost:8080/"
        },
        "id": "bLQJmzrffQRr",
        "outputId": "8a5452b5-dca7-4f43-dcac-d46d2d152518"
      },
      "source": [
        "c"
      ],
      "execution_count": null,
      "outputs": [
        {
          "output_type": "execute_result",
          "data": {
            "text/plain": [
              "0"
            ]
          },
          "metadata": {
            "tags": []
          },
          "execution_count": 51
        }
      ]
    },
    {
      "cell_type": "code",
      "metadata": {
        "id": "p4v9NPDifQnH"
      },
      "source": [
        "c = 1&1"
      ],
      "execution_count": null,
      "outputs": []
    },
    {
      "cell_type": "code",
      "metadata": {
        "colab": {
          "base_uri": "https://localhost:8080/"
        },
        "id": "4K6iqP9bfT0d",
        "outputId": "30676842-4fe9-4507-fa8e-d206e52830fb"
      },
      "source": [
        "c"
      ],
      "execution_count": null,
      "outputs": [
        {
          "output_type": "execute_result",
          "data": {
            "text/plain": [
              "1"
            ]
          },
          "metadata": {
            "tags": []
          },
          "execution_count": 53
        }
      ]
    },
    {
      "cell_type": "code",
      "metadata": {
        "id": "DeNac156fUUI"
      },
      "source": [
        "c = 1 | 1"
      ],
      "execution_count": null,
      "outputs": []
    },
    {
      "cell_type": "code",
      "metadata": {
        "colab": {
          "base_uri": "https://localhost:8080/"
        },
        "id": "Eqw99OtJfaje",
        "outputId": "f99225b4-1b8c-4446-b2d0-ff7c402e0dd2"
      },
      "source": [
        "c"
      ],
      "execution_count": null,
      "outputs": [
        {
          "output_type": "execute_result",
          "data": {
            "text/plain": [
              "1"
            ]
          },
          "metadata": {
            "tags": []
          },
          "execution_count": 55
        }
      ]
    },
    {
      "cell_type": "markdown",
      "metadata": {
        "id": "Zs0cmG4Ufm7Z"
      },
      "source": [
        "^ XOR\n",
        "\n",
        "~ NOT\n",
        "\n",
        "<< Left shift\n",
        "\n",
        ">> Right shift"
      ]
    },
    {
      "cell_type": "code",
      "metadata": {
        "colab": {
          "base_uri": "https://localhost:8080/"
        },
        "id": "6qmsv27Bfa8i",
        "outputId": "bf6ba612-2e09-41b0-a183-7aab0c8354be"
      },
      "source": [
        "5 ^  5 ^ 6 ^7 ^9 ^6 ^ 9"
      ],
      "execution_count": null,
      "outputs": [
        {
          "output_type": "execute_result",
          "data": {
            "text/plain": [
              "7"
            ]
          },
          "metadata": {
            "tags": []
          },
          "execution_count": 58
        }
      ]
    },
    {
      "cell_type": "markdown",
      "metadata": {
        "id": "JwzIP2QWgYZc"
      },
      "source": [
        "List, Tuple, Set and Dictionary"
      ]
    },
    {
      "cell_type": "code",
      "metadata": {
        "id": "zq6qqORBf1gg"
      },
      "source": [
        "lst = [\"apple\", \"banana\", \"cherry\"]"
      ],
      "execution_count": null,
      "outputs": []
    },
    {
      "cell_type": "code",
      "metadata": {
        "id": "iMjwMvBTgtWi"
      },
      "source": [
        "lst[1] = \"mango\""
      ],
      "execution_count": null,
      "outputs": []
    },
    {
      "cell_type": "code",
      "metadata": {
        "colab": {
          "base_uri": "https://localhost:8080/"
        },
        "id": "NXM0dPcsgvpA",
        "outputId": "17c68a87-ceb4-4b4a-e030-edc6baf76389"
      },
      "source": [
        "lst"
      ],
      "execution_count": null,
      "outputs": [
        {
          "output_type": "execute_result",
          "data": {
            "text/plain": [
              "['apple', 'mango', 'cherry']"
            ]
          },
          "metadata": {
            "tags": []
          },
          "execution_count": 61
        }
      ]
    },
    {
      "cell_type": "code",
      "metadata": {
        "id": "HqnVyrfhgwJX"
      },
      "source": [
        "lst.insert(2,\"banana\")"
      ],
      "execution_count": null,
      "outputs": []
    },
    {
      "cell_type": "code",
      "metadata": {
        "colab": {
          "base_uri": "https://localhost:8080/"
        },
        "id": "jvab706dhYxl",
        "outputId": "cb3e9928-0c74-4630-c950-08e167ead54b"
      },
      "source": [
        "lst"
      ],
      "execution_count": null,
      "outputs": [
        {
          "output_type": "execute_result",
          "data": {
            "text/plain": [
              "['apple', 'mango', 'banana', 'cherry']"
            ]
          },
          "metadata": {
            "tags": []
          },
          "execution_count": 63
        }
      ]
    },
    {
      "cell_type": "code",
      "metadata": {
        "id": "nlDBXkU5hZr9"
      },
      "source": [
        "lst.append(\"orange\")"
      ],
      "execution_count": null,
      "outputs": []
    },
    {
      "cell_type": "code",
      "metadata": {
        "colab": {
          "base_uri": "https://localhost:8080/"
        },
        "id": "_NcyGwTFhkWp",
        "outputId": "6205b757-1d5d-4fde-ecc0-2fdc71d1eb29"
      },
      "source": [
        "lst"
      ],
      "execution_count": null,
      "outputs": [
        {
          "output_type": "execute_result",
          "data": {
            "text/plain": [
              "['apple', 'mango', 'banana', 'cherry', 'orange']"
            ]
          },
          "metadata": {
            "tags": []
          },
          "execution_count": 65
        }
      ]
    },
    {
      "cell_type": "code",
      "metadata": {
        "id": "fqNV8dUWhk-n"
      },
      "source": [
        "lst.remove('apple')"
      ],
      "execution_count": null,
      "outputs": []
    },
    {
      "cell_type": "code",
      "metadata": {
        "colab": {
          "base_uri": "https://localhost:8080/"
        },
        "id": "PwaLtFXlhyY7",
        "outputId": "5bd6621d-d9b8-4986-92c1-368a6b8b63b5"
      },
      "source": [
        "lst"
      ],
      "execution_count": null,
      "outputs": [
        {
          "output_type": "execute_result",
          "data": {
            "text/plain": [
              "['mango', 'banana', 'cherry', 'orange']"
            ]
          },
          "metadata": {
            "tags": []
          },
          "execution_count": 67
        }
      ]
    },
    {
      "cell_type": "code",
      "metadata": {
        "colab": {
          "base_uri": "https://localhost:8080/",
          "height": 35
        },
        "id": "aykhx_KRhzSz",
        "outputId": "2ae3a213-0b8f-4322-bc7d-7c98bc75f412"
      },
      "source": [
        "lst.pop()"
      ],
      "execution_count": null,
      "outputs": [
        {
          "output_type": "execute_result",
          "data": {
            "application/vnd.google.colaboratory.intrinsic+json": {
              "type": "string"
            },
            "text/plain": [
              "'orange'"
            ]
          },
          "metadata": {
            "tags": []
          },
          "execution_count": 68
        }
      ]
    },
    {
      "cell_type": "code",
      "metadata": {
        "colab": {
          "base_uri": "https://localhost:8080/"
        },
        "id": "4YO-msQYh6at",
        "outputId": "304bc5f0-da5b-4e84-8f65-11499092f3aa"
      },
      "source": [
        "lst"
      ],
      "execution_count": null,
      "outputs": [
        {
          "output_type": "execute_result",
          "data": {
            "text/plain": [
              "['mango', 'banana', 'cherry']"
            ]
          },
          "metadata": {
            "tags": []
          },
          "execution_count": 69
        }
      ]
    },
    {
      "cell_type": "code",
      "metadata": {
        "colab": {
          "base_uri": "https://localhost:8080/"
        },
        "id": "98QOp3nKh7_d",
        "outputId": "06793875-49ad-4035-e8ef-de81bf7db401"
      },
      "source": [
        "if 'mango' in lst:\n",
        "  print(\"yes\")"
      ],
      "execution_count": null,
      "outputs": [
        {
          "output_type": "stream",
          "text": [
            "yes\n"
          ],
          "name": "stdout"
        }
      ]
    },
    {
      "cell_type": "code",
      "metadata": {
        "colab": {
          "base_uri": "https://localhost:8080/"
        },
        "id": "4D9TLJFKiF7y",
        "outputId": "033e4614-b1b4-4911-8fdf-070a800b4e60"
      },
      "source": [
        "for i in range(10):\n",
        "  print(i+1)"
      ],
      "execution_count": null,
      "outputs": [
        {
          "output_type": "stream",
          "text": [
            "1\n",
            "2\n",
            "3\n",
            "4\n",
            "5\n",
            "6\n",
            "7\n",
            "8\n",
            "9\n",
            "10\n"
          ],
          "name": "stdout"
        }
      ]
    },
    {
      "cell_type": "code",
      "metadata": {
        "id": "WMzKtv-3iU_M"
      },
      "source": [
        "lst.sort()"
      ],
      "execution_count": null,
      "outputs": []
    },
    {
      "cell_type": "code",
      "metadata": {
        "colab": {
          "base_uri": "https://localhost:8080/"
        },
        "id": "qq7x_IknitQR",
        "outputId": "8f384f64-0e05-4222-d337-319d8e447560"
      },
      "source": [
        "lst"
      ],
      "execution_count": null,
      "outputs": [
        {
          "output_type": "execute_result",
          "data": {
            "text/plain": [
              "['banana', 'cherry', 'mango']"
            ]
          },
          "metadata": {
            "tags": []
          },
          "execution_count": 77
        }
      ]
    },
    {
      "cell_type": "code",
      "metadata": {
        "id": "luztZVHMitwC"
      },
      "source": [
        "lst.sort(reverse=True)"
      ],
      "execution_count": null,
      "outputs": []
    },
    {
      "cell_type": "code",
      "metadata": {
        "colab": {
          "base_uri": "https://localhost:8080/"
        },
        "id": "M7wet33wi7hs",
        "outputId": "55178200-104e-49b8-c457-de21e6993352"
      },
      "source": [
        "lst"
      ],
      "execution_count": null,
      "outputs": [
        {
          "output_type": "execute_result",
          "data": {
            "text/plain": [
              "['mango', 'cherry', 'banana']"
            ]
          },
          "metadata": {
            "tags": []
          },
          "execution_count": 79
        }
      ]
    },
    {
      "cell_type": "code",
      "metadata": {
        "id": "C2nA19PMi7_5"
      },
      "source": [
        "lst2 = lst.copy()"
      ],
      "execution_count": null,
      "outputs": []
    },
    {
      "cell_type": "code",
      "metadata": {
        "colab": {
          "base_uri": "https://localhost:8080/"
        },
        "id": "Mr3Ymi9HjEJV",
        "outputId": "5e9acca6-ce34-411b-d9ba-c7cb99bcbcba"
      },
      "source": [
        "lst2"
      ],
      "execution_count": null,
      "outputs": [
        {
          "output_type": "execute_result",
          "data": {
            "text/plain": [
              "['mango', 'cherry', 'banana']"
            ]
          },
          "metadata": {
            "tags": []
          },
          "execution_count": 82
        }
      ]
    },
    {
      "cell_type": "code",
      "metadata": {
        "colab": {
          "base_uri": "https://localhost:8080/"
        },
        "id": "xD1tJmVLjFZw",
        "outputId": "3ff6a3d1-98fd-4739-f9c7-dace50afd19d"
      },
      "source": [
        "lst + lst2"
      ],
      "execution_count": null,
      "outputs": [
        {
          "output_type": "execute_result",
          "data": {
            "text/plain": [
              "['mango', 'cherry', 'banana', 'mango', 'cherry', 'banana']"
            ]
          },
          "metadata": {
            "tags": []
          },
          "execution_count": 83
        }
      ]
    },
    {
      "cell_type": "markdown",
      "metadata": {
        "id": "l9kZOZK-jUeM"
      },
      "source": [
        "append()\n",
        "\n",
        "clear()\n",
        "\n",
        "copy()\n",
        "\n",
        "count()\n",
        "\n",
        "extend()\n",
        "\n",
        "index()\n",
        "\n",
        "insert()\n",
        "\n",
        "pop()\n",
        "\n",
        "remove()\n",
        "\n",
        "reverse()\n",
        "\n",
        "sort() "
      ]
    },
    {
      "cell_type": "code",
      "metadata": {
        "id": "-MHP-kX5jM3G"
      },
      "source": [
        "mytuple = ('apple', 'banana', 'cherry')"
      ],
      "execution_count": null,
      "outputs": []
    },
    {
      "cell_type": "code",
      "metadata": {
        "colab": {
          "base_uri": "https://localhost:8080/"
        },
        "id": "mrY8TgQVj-lc",
        "outputId": "b704700a-9baf-4ef8-a8de-2575ca9c8003"
      },
      "source": [
        "print(mytuple)"
      ],
      "execution_count": null,
      "outputs": [
        {
          "output_type": "stream",
          "text": [
            "('apple', 'banana', 'cherry')\n"
          ],
          "name": "stdout"
        }
      ]
    },
    {
      "cell_type": "code",
      "metadata": {
        "colab": {
          "base_uri": "https://localhost:8080/"
        },
        "id": "kdm_Qo2zkHf5",
        "outputId": "09ac6cb7-f3e4-415d-d12e-0ca519d71c2d"
      },
      "source": [
        "len(mytuple)"
      ],
      "execution_count": null,
      "outputs": [
        {
          "output_type": "execute_result",
          "data": {
            "text/plain": [
              "3"
            ]
          },
          "metadata": {
            "tags": []
          },
          "execution_count": 87
        }
      ]
    },
    {
      "cell_type": "code",
      "metadata": {
        "colab": {
          "base_uri": "https://localhost:8080/",
          "height": 35
        },
        "id": "Pa-93S38kSqM",
        "outputId": "bbaeb25c-1da4-4c4e-8761-42fc5fb18322"
      },
      "source": [
        "mytuple[2]"
      ],
      "execution_count": null,
      "outputs": [
        {
          "output_type": "execute_result",
          "data": {
            "application/vnd.google.colaboratory.intrinsic+json": {
              "type": "string"
            },
            "text/plain": [
              "'cherry'"
            ]
          },
          "metadata": {
            "tags": []
          },
          "execution_count": 89
        }
      ]
    },
    {
      "cell_type": "code",
      "metadata": {
        "id": "1DW_MqibkZkf"
      },
      "source": [
        "lst3 = list(mytuple)"
      ],
      "execution_count": null,
      "outputs": []
    },
    {
      "cell_type": "code",
      "metadata": {
        "colab": {
          "base_uri": "https://localhost:8080/"
        },
        "id": "fDbhaFzqk_Tn",
        "outputId": "2c1e2ab4-c42f-403c-a1d6-69e40a2cf501"
      },
      "source": [
        "lst3"
      ],
      "execution_count": null,
      "outputs": [
        {
          "output_type": "execute_result",
          "data": {
            "text/plain": [
              "['apple', 'banana', 'cherry']"
            ]
          },
          "metadata": {
            "tags": []
          },
          "execution_count": 92
        }
      ]
    },
    {
      "cell_type": "code",
      "metadata": {
        "id": "IxThawKNlAbn"
      },
      "source": [
        "(a,b,c) = mytuple"
      ],
      "execution_count": null,
      "outputs": []
    },
    {
      "cell_type": "code",
      "metadata": {
        "colab": {
          "base_uri": "https://localhost:8080/"
        },
        "id": "FbKB87Mulaex",
        "outputId": "b63be007-c5f2-4ee3-da64-ad980c29e7e1"
      },
      "source": [
        "print(a)\n",
        "print(b)\n",
        "print(c)"
      ],
      "execution_count": null,
      "outputs": [
        {
          "output_type": "stream",
          "text": [
            "apple\n",
            "banana\n",
            "cherry\n"
          ],
          "name": "stdout"
        }
      ]
    },
    {
      "cell_type": "code",
      "metadata": {
        "colab": {
          "base_uri": "https://localhost:8080/"
        },
        "id": "QPS8fI_klugA",
        "outputId": "55d34aa7-1ae3-4562-8f7d-9bbaf0790096"
      },
      "source": [
        "i=5\n",
        "while(i<10):\n",
        "  print(i)\n",
        "  i+=1"
      ],
      "execution_count": null,
      "outputs": [
        {
          "output_type": "stream",
          "text": [
            "5\n",
            "6\n",
            "7\n",
            "8\n",
            "9\n"
          ],
          "name": "stdout"
        }
      ]
    },
    {
      "cell_type": "code",
      "metadata": {
        "id": "iF-TJxhPmAor"
      },
      "source": [
        "WAP to check if a number is prime or not "
      ],
      "execution_count": null,
      "outputs": []
    },
    {
      "cell_type": "markdown",
      "metadata": {
        "id": "d5Y_SwANoU7T"
      },
      "source": [
        "#Python Sets"
      ]
    },
    {
      "cell_type": "code",
      "metadata": {
        "id": "gex7ebcWoM9J"
      },
      "source": [
        "myset = {\"apple\",\"banana\",\"kiwi\"}"
      ],
      "execution_count": null,
      "outputs": []
    },
    {
      "cell_type": "code",
      "metadata": {
        "colab": {
          "base_uri": "https://localhost:8080/"
        },
        "id": "ZcLOLjW5odaL",
        "outputId": "9b2beb50-457c-4b67-f487-732c5ef2fe47"
      },
      "source": [
        "print(myset)"
      ],
      "execution_count": null,
      "outputs": [
        {
          "output_type": "stream",
          "text": [
            "{'kiwi', 'apple', 'banana'}\n"
          ],
          "name": "stdout"
        }
      ]
    },
    {
      "cell_type": "code",
      "metadata": {
        "id": "4whuSlU1olsE"
      },
      "source": [
        "myset.add(\"orange\")"
      ],
      "execution_count": null,
      "outputs": []
    },
    {
      "cell_type": "code",
      "metadata": {
        "colab": {
          "base_uri": "https://localhost:8080/"
        },
        "id": "BSHRMGQHowDh",
        "outputId": "df2af91c-67b7-4860-e602-3ed90a34bc9f"
      },
      "source": [
        "myset"
      ],
      "execution_count": null,
      "outputs": [
        {
          "output_type": "execute_result",
          "data": {
            "text/plain": [
              "{'apple', 'banana', 'kiwi', 'orange'}"
            ]
          },
          "metadata": {
            "tags": []
          },
          "execution_count": 99
        }
      ]
    },
    {
      "cell_type": "code",
      "metadata": {
        "id": "feQxXR0xowoK"
      },
      "source": [
        "myset2 = {\"apple\",\"banana\",\"kiwi\",\"orange\",\"mango\"}"
      ],
      "execution_count": null,
      "outputs": []
    },
    {
      "cell_type": "code",
      "metadata": {
        "id": "CimcrwnNpKVk"
      },
      "source": [
        "myset.update(myset2)"
      ],
      "execution_count": null,
      "outputs": []
    },
    {
      "cell_type": "code",
      "metadata": {
        "colab": {
          "base_uri": "https://localhost:8080/"
        },
        "id": "GiU5fgOBpOY2",
        "outputId": "2890950e-1622-4412-e5fc-f900d929ab21"
      },
      "source": [
        "myset"
      ],
      "execution_count": null,
      "outputs": [
        {
          "output_type": "execute_result",
          "data": {
            "text/plain": [
              "{'apple', 'banana', 'kiwi', 'mango', 'orange'}"
            ]
          },
          "metadata": {
            "tags": []
          },
          "execution_count": 102
        }
      ]
    },
    {
      "cell_type": "markdown",
      "metadata": {
        "id": "3DIyanRGpjBm"
      },
      "source": [
        "# Python Dictionary"
      ]
    },
    {
      "cell_type": "code",
      "metadata": {
        "id": "0JGbEQu7pPS1"
      },
      "source": [
        "thisdict = {\"a\":\"apple\", \n",
        "            \"b\":\"ball\",\n",
        "            \"c\": \"cat\"}"
      ],
      "execution_count": null,
      "outputs": []
    },
    {
      "cell_type": "code",
      "metadata": {
        "colab": {
          "base_uri": "https://localhost:8080/"
        },
        "id": "Pt_nkFZypw6P",
        "outputId": "6ae5df14-5b18-4c7a-d11f-e1cdac39ed56"
      },
      "source": [
        "print(thisdict)"
      ],
      "execution_count": null,
      "outputs": [
        {
          "output_type": "stream",
          "text": [
            "{'a': 'apple', 'b': 'ball', 'c': 'cat'}\n"
          ],
          "name": "stdout"
        }
      ]
    },
    {
      "cell_type": "code",
      "metadata": {
        "colab": {
          "base_uri": "https://localhost:8080/",
          "height": 35
        },
        "id": "01YJpsbNp1_g",
        "outputId": "feb4dacc-151a-401f-c60f-e63876511c1a"
      },
      "source": [
        "thisdict[\"a\"]"
      ],
      "execution_count": null,
      "outputs": [
        {
          "output_type": "execute_result",
          "data": {
            "application/vnd.google.colaboratory.intrinsic+json": {
              "type": "string"
            },
            "text/plain": [
              "'apple'"
            ]
          },
          "metadata": {
            "tags": []
          },
          "execution_count": 105
        }
      ]
    },
    {
      "cell_type": "markdown",
      "metadata": {
        "id": "SWWhfGxCqG9y"
      },
      "source": [
        "# Python lambda"
      ]
    },
    {
      "cell_type": "code",
      "metadata": {
        "id": "FHYdn59wp5aO"
      },
      "source": [
        "x = lambda a:a+10"
      ],
      "execution_count": null,
      "outputs": []
    },
    {
      "cell_type": "code",
      "metadata": {
        "colab": {
          "base_uri": "https://localhost:8080/"
        },
        "id": "ezniaxZhqS2F",
        "outputId": "9e217bab-a6d9-4a14-f258-832a5a74981e"
      },
      "source": [
        "print(x(5))"
      ],
      "execution_count": null,
      "outputs": [
        {
          "output_type": "stream",
          "text": [
            "15\n"
          ],
          "name": "stdout"
        }
      ]
    },
    {
      "cell_type": "code",
      "metadata": {
        "id": "qjZ7wfuOqYgo"
      },
      "source": [
        "class MyClass:\n",
        "  x=5"
      ],
      "execution_count": null,
      "outputs": []
    },
    {
      "cell_type": "code",
      "metadata": {
        "id": "SoxiCsYM3ibp"
      },
      "source": [
        "p1 = MyClass()"
      ],
      "execution_count": null,
      "outputs": []
    },
    {
      "cell_type": "code",
      "metadata": {
        "colab": {
          "base_uri": "https://localhost:8080/"
        },
        "id": "QaJRHhJX3lct",
        "outputId": "343854cf-d5f0-4062-9c0b-e34846864a3a"
      },
      "source": [
        "p1.x"
      ],
      "execution_count": null,
      "outputs": [
        {
          "output_type": "execute_result",
          "data": {
            "text/plain": [
              "5"
            ]
          },
          "metadata": {
            "tags": []
          },
          "execution_count": 110
        }
      ]
    },
    {
      "cell_type": "code",
      "metadata": {
        "id": "dgq_Bspj3mkx"
      },
      "source": [
        "class Person:\n",
        "  def __init__(self, name, age):\n",
        "    self.name = name\n",
        "    self.age = age"
      ],
      "execution_count": null,
      "outputs": []
    },
    {
      "cell_type": "code",
      "metadata": {
        "id": "jPOaa7qj3y0P"
      },
      "source": [
        "p1 = Person(\"John\", 36)"
      ],
      "execution_count": null,
      "outputs": []
    },
    {
      "cell_type": "code",
      "metadata": {
        "colab": {
          "base_uri": "https://localhost:8080/",
          "height": 35
        },
        "id": "BiMu6Cy34Car",
        "outputId": "96fc1c37-cbb3-4e9f-d8a6-c04e016eda02"
      },
      "source": [
        "p1.name"
      ],
      "execution_count": null,
      "outputs": [
        {
          "output_type": "execute_result",
          "data": {
            "application/vnd.google.colaboratory.intrinsic+json": {
              "type": "string"
            },
            "text/plain": [
              "'John'"
            ]
          },
          "metadata": {
            "tags": []
          },
          "execution_count": 114
        }
      ]
    },
    {
      "cell_type": "code",
      "metadata": {
        "colab": {
          "base_uri": "https://localhost:8080/"
        },
        "id": "ufOm1STP4EEQ",
        "outputId": "09cbe6ee-b933-4a09-843e-0beae0a0f50b"
      },
      "source": [
        "p1.age"
      ],
      "execution_count": null,
      "outputs": [
        {
          "output_type": "execute_result",
          "data": {
            "text/plain": [
              "36"
            ]
          },
          "metadata": {
            "tags": []
          },
          "execution_count": 115
        }
      ]
    },
    {
      "cell_type": "code",
      "metadata": {
        "id": "x71T3N8F4FRA"
      },
      "source": [
        "class Person:\n",
        "  def __init__(self, name, age):\n",
        "    self.name = name\n",
        "    self.age = age\n",
        "\n",
        "  def myfunc(self):\n",
        "    print(\"Hello my name is \"+self.name)"
      ],
      "execution_count": null,
      "outputs": []
    },
    {
      "cell_type": "code",
      "metadata": {
        "id": "XbhmaOAC49rV"
      },
      "source": [
        "p1 = Person(\"John\",36)"
      ],
      "execution_count": null,
      "outputs": []
    },
    {
      "cell_type": "code",
      "metadata": {
        "colab": {
          "base_uri": "https://localhost:8080/"
        },
        "id": "5p1ayiPj5Cew",
        "outputId": "f6e89ad5-6fce-4c17-9d4c-b291494a5406"
      },
      "source": [
        "p1.myfunc()"
      ],
      "execution_count": null,
      "outputs": [
        {
          "output_type": "stream",
          "text": [
            "Hello my name is John\n"
          ],
          "name": "stdout"
        }
      ]
    },
    {
      "cell_type": "markdown",
      "metadata": {
        "id": "S1c3WqGE53pF"
      },
      "source": [
        "#Inheritance in python"
      ]
    },
    {
      "cell_type": "code",
      "metadata": {
        "id": "quemP3js5FBH"
      },
      "source": [
        "class Person:\n",
        "  def __init__(self,fname,lname):\n",
        "    self.firstname = fname\n",
        "    self.lastname = lname\n",
        "  def printname(self):\n",
        "    print(self.firstname, self.lastname)"
      ],
      "execution_count": null,
      "outputs": []
    },
    {
      "cell_type": "code",
      "metadata": {
        "colab": {
          "base_uri": "https://localhost:8080/"
        },
        "id": "cW3LsBiF57Y9",
        "outputId": "a99f5228-92f1-4fa3-c513-4227decdb55f"
      },
      "source": [
        "x = Person(\"John\",\"Doe\")\n",
        "x.printname()"
      ],
      "execution_count": null,
      "outputs": [
        {
          "output_type": "stream",
          "text": [
            "John Doe\n"
          ],
          "name": "stdout"
        }
      ]
    },
    {
      "cell_type": "code",
      "metadata": {
        "id": "5FAkSWZA6Ywi"
      },
      "source": [
        "class Student(Person):\n",
        "  pass"
      ],
      "execution_count": null,
      "outputs": []
    },
    {
      "cell_type": "code",
      "metadata": {
        "colab": {
          "base_uri": "https://localhost:8080/"
        },
        "id": "Mg2dMZOM6jYJ",
        "outputId": "261b7082-aa90-403c-812a-ff517a72a8e9"
      },
      "source": [
        "x = Student(\"Mike\",\"Paul\")\n",
        "x.printname()"
      ],
      "execution_count": null,
      "outputs": [
        {
          "output_type": "stream",
          "text": [
            "Mike Paul\n"
          ],
          "name": "stdout"
        }
      ]
    },
    {
      "cell_type": "code",
      "metadata": {
        "id": "FTtpXgNX6qkf"
      },
      "source": [
        "class Student(Person):\n",
        "  def __init__(self, fname, lname):\n",
        "    Person.__init__(self,fname,lname)"
      ],
      "execution_count": null,
      "outputs": []
    },
    {
      "cell_type": "code",
      "metadata": {
        "id": "atO0Kw-N77zP"
      },
      "source": [
        "class Student(Person):\n",
        "  def __init__(self, fname, lname):\n",
        "    super().__init__(self,fname,lname)"
      ],
      "execution_count": null,
      "outputs": []
    },
    {
      "cell_type": "code",
      "metadata": {
        "id": "VCXZ2Lsm8BWy"
      },
      "source": [
        "class Student(Person):\n",
        "  def __init__(self, fname, lname):\n",
        "    super().__init__(self,fname,lname)\n",
        "    self.graduationyear=2020"
      ],
      "execution_count": null,
      "outputs": []
    },
    {
      "cell_type": "code",
      "metadata": {
        "id": "PWftfCv68QOC"
      },
      "source": [
        "class Student(Person):\n",
        "  def __init__(self, fname, lname,year):\n",
        "    super().__init__(fname,lname)\n",
        "    self.graduationyear=year"
      ],
      "execution_count": null,
      "outputs": []
    },
    {
      "cell_type": "code",
      "metadata": {
        "id": "dpt7HH7U8br9"
      },
      "source": [
        "x = Student(\"Mike\",\"Paul\",2020)"
      ],
      "execution_count": null,
      "outputs": []
    },
    {
      "cell_type": "markdown",
      "metadata": {
        "id": "IjIGrpR59LIY"
      },
      "source": [
        "#Python Modules"
      ]
    },
    {
      "cell_type": "code",
      "metadata": {
        "id": "1yTTBXZt8yeX"
      },
      "source": [
        "def greeting(name):\n",
        "  print(\"Hello, \" + name)"
      ],
      "execution_count": null,
      "outputs": []
    },
    {
      "cell_type": "code",
      "metadata": {
        "colab": {
          "base_uri": "https://localhost:8080/"
        },
        "id": "GIZfjWiW-a37",
        "outputId": "142c4dee-b88f-490c-be89-e45b3574cf47"
      },
      "source": [
        "ls"
      ],
      "execution_count": null,
      "outputs": [
        {
          "output_type": "stream",
          "text": [
            "mymodule.py  \u001b[0m\u001b[01;34msample_data\u001b[0m/\n"
          ],
          "name": "stdout"
        }
      ]
    },
    {
      "cell_type": "code",
      "metadata": {
        "id": "YkXSBkfB-sp_"
      },
      "source": [
        "import mymodule"
      ],
      "execution_count": null,
      "outputs": []
    },
    {
      "cell_type": "code",
      "metadata": {
        "colab": {
          "base_uri": "https://localhost:8080/"
        },
        "id": "5SBmtxhD-vy0",
        "outputId": "1c45fe35-8748-48b2-940b-16f695366d91"
      },
      "source": [
        "mymodule.greeting(\"Harish\")"
      ],
      "execution_count": null,
      "outputs": [
        {
          "output_type": "stream",
          "text": [
            "Hello, Harish\n"
          ],
          "name": "stdout"
        }
      ]
    },
    {
      "cell_type": "code",
      "metadata": {
        "id": "pZ58vG1T-096"
      },
      "source": [
        "import mymodule as my"
      ],
      "execution_count": null,
      "outputs": []
    },
    {
      "cell_type": "code",
      "metadata": {
        "colab": {
          "base_uri": "https://localhost:8080/"
        },
        "id": "0-TmvheW_Czt",
        "outputId": "1f46cc28-6b2a-46d9-c15c-170d85ed566e"
      },
      "source": [
        "my.greeting(\"Nafisa\")"
      ],
      "execution_count": null,
      "outputs": [
        {
          "output_type": "stream",
          "text": [
            "Hello, Nafisa\n"
          ],
          "name": "stdout"
        }
      ]
    },
    {
      "cell_type": "code",
      "metadata": {
        "id": "jT6lU0t4_F8q"
      },
      "source": [
        "import datetime"
      ],
      "execution_count": null,
      "outputs": []
    },
    {
      "cell_type": "code",
      "metadata": {
        "id": "B2WwdThH_-Xe"
      },
      "source": [
        "x = datetime.datetime.now()"
      ],
      "execution_count": null,
      "outputs": []
    },
    {
      "cell_type": "code",
      "metadata": {
        "colab": {
          "base_uri": "https://localhost:8080/"
        },
        "id": "2qT5w2vrADzN",
        "outputId": "9bfc341a-fb96-40d0-82b8-92a000108021"
      },
      "source": [
        "print(x)"
      ],
      "execution_count": null,
      "outputs": [
        {
          "output_type": "stream",
          "text": [
            "2021-05-14 08:31:11.445087\n"
          ],
          "name": "stdout"
        }
      ]
    },
    {
      "cell_type": "markdown",
      "metadata": {
        "id": "AFzl-iacBQhE"
      },
      "source": [
        "#python JSON"
      ]
    },
    {
      "cell_type": "code",
      "metadata": {
        "id": "jUYWo3WJAEvR"
      },
      "source": [
        "import json"
      ],
      "execution_count": null,
      "outputs": []
    },
    {
      "cell_type": "code",
      "metadata": {
        "id": "9j5AsltbBb6K"
      },
      "source": [
        "x = '{\"name\":\"John\", \"age\":30, \"city\":\"New York\"}'"
      ],
      "execution_count": null,
      "outputs": []
    },
    {
      "cell_type": "code",
      "metadata": {
        "id": "Y5pNjNTeBqci"
      },
      "source": [
        "y = json.loads(x)"
      ],
      "execution_count": null,
      "outputs": []
    },
    {
      "cell_type": "code",
      "metadata": {
        "colab": {
          "base_uri": "https://localhost:8080/"
        },
        "id": "X0Hkk0hgBt_k",
        "outputId": "3c072c5f-341c-430d-871a-553744e84afd"
      },
      "source": [
        "print(y[\"age\"])"
      ],
      "execution_count": null,
      "outputs": [
        {
          "output_type": "stream",
          "text": [
            "30\n"
          ],
          "name": "stdout"
        }
      ]
    },
    {
      "cell_type": "code",
      "metadata": {
        "id": "2EdOIbQJBuv5"
      },
      "source": [
        "z = json.dumps(y)"
      ],
      "execution_count": null,
      "outputs": []
    },
    {
      "cell_type": "code",
      "metadata": {
        "colab": {
          "base_uri": "https://localhost:8080/"
        },
        "id": "k1kb_Pq8B_r_",
        "outputId": "ed7152c3-8948-4c36-b4de-8dc983e49039"
      },
      "source": [
        "print(z)"
      ],
      "execution_count": null,
      "outputs": [
        {
          "output_type": "stream",
          "text": [
            "{\"name\": \"John\", \"age\": 30, \"city\": \"New York\"}\n"
          ],
          "name": "stdout"
        }
      ]
    },
    {
      "cell_type": "markdown",
      "metadata": {
        "id": "U66qBm07Ccmx"
      },
      "source": [
        "#Python Try Except"
      ]
    },
    {
      "cell_type": "code",
      "metadata": {
        "colab": {
          "base_uri": "https://localhost:8080/"
        },
        "id": "Ak3saLsDCAry",
        "outputId": "4467e211-781a-4987-b9cf-d7d4833aed76"
      },
      "source": [
        "try:\n",
        "  print(p)\n",
        "except:\n",
        "  print(\"An exception occured\")"
      ],
      "execution_count": null,
      "outputs": [
        {
          "output_type": "stream",
          "text": [
            "1\n"
          ],
          "name": "stdout"
        }
      ]
    },
    {
      "cell_type": "code",
      "metadata": {
        "id": "rHvMIYY-Cs47"
      },
      "source": [
        "p=1"
      ],
      "execution_count": null,
      "outputs": []
    },
    {
      "cell_type": "code",
      "metadata": {
        "colab": {
          "base_uri": "https://localhost:8080/"
        },
        "id": "o4C2czoVCx1H",
        "outputId": "c76ed4d2-f012-45ef-be02-1ab7ec003e26"
      },
      "source": [
        "try:\n",
        "  print(o)\n",
        "except NameError:\n",
        "  print(\"Variable o is not defined\")\n",
        "except:\n",
        "  print(\"something else is wrong\")"
      ],
      "execution_count": null,
      "outputs": [
        {
          "output_type": "stream",
          "text": [
            "Variable o is not defined\n"
          ],
          "name": "stdout"
        }
      ]
    },
    {
      "cell_type": "markdown",
      "metadata": {
        "id": "KoCFzQ8AFXaA"
      },
      "source": [
        "#Python Numpy"
      ]
    },
    {
      "cell_type": "code",
      "metadata": {
        "id": "-7jHXL_bDE1C"
      },
      "source": [
        "import numpy as np"
      ],
      "execution_count": null,
      "outputs": []
    },
    {
      "cell_type": "code",
      "metadata": {
        "id": "FUiscPFxFh5K"
      },
      "source": [
        "arr = np.array([1,2,3,4,5,6])"
      ],
      "execution_count": null,
      "outputs": []
    },
    {
      "cell_type": "code",
      "metadata": {
        "colab": {
          "base_uri": "https://localhost:8080/"
        },
        "id": "ryWhsfq9Fl0O",
        "outputId": "6459f090-6bb8-4c4f-8874-770112672ff8"
      },
      "source": [
        "print(arr)"
      ],
      "execution_count": null,
      "outputs": [
        {
          "output_type": "stream",
          "text": [
            "[1 2 3 4 5 6]\n"
          ],
          "name": "stdout"
        }
      ]
    },
    {
      "cell_type": "code",
      "metadata": {
        "colab": {
          "base_uri": "https://localhost:8080/"
        },
        "id": "XL3IyQTjFntc",
        "outputId": "5afedaca-f2b4-4986-f81c-1af36f769010"
      },
      "source": [
        "print(type(arr))"
      ],
      "execution_count": null,
      "outputs": [
        {
          "output_type": "stream",
          "text": [
            "<class 'numpy.ndarray'>\n"
          ],
          "name": "stdout"
        }
      ]
    },
    {
      "cell_type": "code",
      "metadata": {
        "id": "CbenSYDdFqV3"
      },
      "source": [
        "arr2 = np.array([[1,2,3],\n",
        "                 [4,5,6]])"
      ],
      "execution_count": null,
      "outputs": []
    },
    {
      "cell_type": "code",
      "metadata": {
        "colab": {
          "base_uri": "https://localhost:8080/"
        },
        "id": "i5ElRO_3GA8y",
        "outputId": "da6a3c98-ae11-4734-cc6c-252e76fcf697"
      },
      "source": [
        "print(arr2)"
      ],
      "execution_count": null,
      "outputs": [
        {
          "output_type": "stream",
          "text": [
            "[[1 2 3]\n",
            " [4 5 6]]\n"
          ],
          "name": "stdout"
        }
      ]
    },
    {
      "cell_type": "markdown",
      "metadata": {
        "id": "sFxEiZwFG4s0"
      },
      "source": [
        "# Python Matplotlib"
      ]
    },
    {
      "cell_type": "code",
      "metadata": {
        "id": "tIkI6C9DGCUA"
      },
      "source": [
        "import matplotlib.pyplot as plt\n",
        "%matplotlib inline"
      ],
      "execution_count": null,
      "outputs": []
    },
    {
      "cell_type": "code",
      "metadata": {
        "id": "pY2XB2orWaeD"
      },
      "source": [
        "import numpy as np"
      ],
      "execution_count": null,
      "outputs": []
    },
    {
      "cell_type": "code",
      "metadata": {
        "id": "oz2PCw67Wjfi"
      },
      "source": [
        "xpoints = np.array([0,6])"
      ],
      "execution_count": null,
      "outputs": []
    },
    {
      "cell_type": "code",
      "metadata": {
        "id": "Qks_oDI8Wn-v"
      },
      "source": [
        "ypoints = np.array([0,250])"
      ],
      "execution_count": null,
      "outputs": []
    },
    {
      "cell_type": "code",
      "metadata": {
        "colab": {
          "base_uri": "https://localhost:8080/",
          "height": 281
        },
        "id": "4JB9yjFkWss2",
        "outputId": "09ddc081-6b83-4e32-f8ba-d20a71a1e3f8"
      },
      "source": [
        "plt.plot(xpoints, ypoints)"
      ],
      "execution_count": null,
      "outputs": [
        {
          "output_type": "execute_result",
          "data": {
            "text/plain": [
              "[<matplotlib.lines.Line2D at 0x7fd7a908eb50>]"
            ]
          },
          "metadata": {
            "tags": []
          },
          "execution_count": 188
        },
        {
          "output_type": "display_data",
          "data": {
            "image/png": "[encoded data removed]",
            "text/plain": [
              "<Figure size 432x288 with 1 Axes>"
            ]
          },
          "metadata": {
            "tags": [],
            "needs_background": "light"
          }
        }
      ]
    },
    {
      "cell_type": "code",
      "metadata": {
        "colab": {
          "base_uri": "https://localhost:8080/",
          "height": 281
        },
        "id": "1WLQofg3WyqN",
        "outputId": "36f049d3-6d53-4d34-af0a-36a98a8b8524"
      },
      "source": [
        "plt.plot(xpoints, ypoints, 'o')"
      ],
      "execution_count": null,
      "outputs": [
        {
          "output_type": "execute_result",
          "data": {
            "text/plain": [
              "[<matplotlib.lines.Line2D at 0x7fd7a901da90>]"
            ]
          },
          "metadata": {
            "tags": []
          },
          "execution_count": 189
        },
        {
          "output_type": "display_data",
          "data": {
            "image/png": "[encoded data removed]",
            "text/plain": [
              "<Figure size 432x288 with 1 Axes>"
            ]
          },
          "metadata": {
            "tags": [],
            "needs_background": "light"
          }
        }
      ]
    },
    {
      "cell_type": "markdown",
      "metadata": {
        "id": "F3kSUncvXVMd"
      },
      "source": [
        "Draw a line in a diagram from position (1,3) to (2,8) then to (6,1) and finally to position (8,10)"
      ]
    },
    {
      "cell_type": "code",
      "metadata": {
        "id": "Zky_k7YSXJXF"
      },
      "source": [
        "xpoints = np.array([1,2,6,8])"
      ],
      "execution_count": null,
      "outputs": []
    },
    {
      "cell_type": "code",
      "metadata": {
        "id": "cyvF0oH1Xn0G"
      },
      "source": [
        "ypoints = np.array([3,8,1,10])"
      ],
      "execution_count": null,
      "outputs": []
    },
    {
      "cell_type": "code",
      "metadata": {
        "colab": {
          "base_uri": "https://localhost:8080/",
          "height": 281
        },
        "id": "X8w-Eks5XwTG",
        "outputId": "b655d137-4563-49fc-81f3-2f5129e4491a"
      },
      "source": [
        "plt.plot(xpoints, ypoints)"
      ],
      "execution_count": null,
      "outputs": [
        {
          "output_type": "execute_result",
          "data": {
            "text/plain": [
              "[<matplotlib.lines.Line2D at 0x7fd7a929b410>]"
            ]
          },
          "metadata": {
            "tags": []
          },
          "execution_count": 192
        },
        {
          "output_type": "display_data",
          "data": {
            "image/png": "[encoded data removed]",
            "text/plain": [
              "<Figure size 432x288 with 1 Axes>"
            ]
          },
          "metadata": {
            "tags": [],
            "needs_background": "light"
          }
        }
      ]
    },
    {
      "cell_type": "code",
      "metadata": {
        "id": "tu86X9H6Xz_8"
      },
      "source": [
        "x = np.array([80,85,90,95,100,105,110,115,120,125])"
      ],
      "execution_count": null,
      "outputs": []
    },
    {
      "cell_type": "code",
      "metadata": {
        "id": "JY8rLAYKYWrF"
      },
      "source": [
        "y = np.array([240,250,260,270,280,290,300,310,320,330])"
      ],
      "execution_count": null,
      "outputs": []
    },
    {
      "cell_type": "code",
      "metadata": {
        "colab": {
          "base_uri": "https://localhost:8080/",
          "height": 295
        },
        "id": "Niz9yjq1YmtC",
        "outputId": "e34fb9b3-014e-49b7-d580-cac8b41d085e"
      },
      "source": [
        "plt.grid()\n",
        "plt.title(\"Smart Watch Data\")\n",
        "plt.xlabel(\"Average Pulse\")\n",
        "plt.ylabel(\"calorie burnage\")\n",
        "plt.plot(x,y)\n",
        "plt.show()"
      ],
      "execution_count": null,
      "outputs": [
        {
          "output_type": "display_data",
          "data": {
            "image/png": "[encoded data removed]",
            "text/plain": [
              "<Figure size 432x288 with 1 Axes>"
            ]
          },
          "metadata": {
            "tags": [],
            "needs_background": "light"
          }
        }
      ]
    },
    {
      "cell_type": "code",
      "metadata": {
        "colab": {
          "base_uri": "https://localhost:8080/",
          "height": 265
        },
        "id": "FdCtOeDRYrQJ",
        "outputId": "a6157e67-0e8d-4d2c-df07-314a216fea4b"
      },
      "source": [
        "x = np.array([0,1,2,3])\n",
        "y = np.array([3,8,1,10])\n",
        "plt.subplot(1,2,1)\n",
        "plt.plot(x,y)\n",
        "p = np.array([0,1,2,3])\n",
        "q = np.array([10,20,30,40])\n",
        "plt.subplot(1,2,2)\n",
        "plt.plot(p,q)\n",
        "plt.show()"
      ],
      "execution_count": null,
      "outputs": [
        {
          "output_type": "display_data",
          "data": {
            "image/png": "[encoded data removed]",
            "text/plain": [
              "<Figure size 432x288 with 2 Axes>"
            ]
          },
          "metadata": {
            "tags": [],
            "needs_background": "light"
          }
        }
      ]
    },
    {
      "cell_type": "code",
      "metadata": {
        "colab": {
          "base_uri": "https://localhost:8080/",
          "height": 269
        },
        "id": "N7t9FGqHbuKu",
        "outputId": "f827f693-a2dd-40fa-e05c-a26c9455030b"
      },
      "source": [
        "a = np.array([5,7,8,7,2,17,2,9,4,11,12,9,6])\n",
        "b = np.array([99,86,87,88,111,86,103,87,94,78,77,85,86])\n",
        "color = np.array([0,10,20,30,40,45,50,55,60,70,80,90,100])\n",
        "plt.scatter(a,b,c=color,cmap='viridis')\n",
        "plt.colorbar()\n",
        "plt.show()"
      ],
      "execution_count": null,
      "outputs": [
        {
          "output_type": "display_data",
          "data": {
            "image/png": "[encoded data removed]",
            "text/plain": [
              "<Figure size 432x288 with 2 Axes>"
            ]
          },
          "metadata": {
            "tags": [],
            "needs_background": "light"
          }
        }
      ]
    },
    {
      "cell_type": "code",
      "metadata": {
        "colab": {
          "base_uri": "https://localhost:8080/",
          "height": 265
        },
        "id": "WPsWvLsYb0G1",
        "outputId": "9aa0a87d-a331-4d1d-9c46-f29fc110fa66"
      },
      "source": [
        "x = np.array([\"A\", \"B\", \"C\",\"D\"])\n",
        "y = np.array([3,8,1,10])\n",
        "plt.bar(x,y)\n",
        "plt.show()"
      ],
      "execution_count": null,
      "outputs": [
        {
          "output_type": "display_data",
          "data": {
            "image/png": "[encoded data removed]",
            "text/plain": [
              "<Figure size 432x288 with 1 Axes>"
            ]
          },
          "metadata": {
            "tags": [],
            "needs_background": "light"
          }
        }
      ]
    },
    {
      "cell_type": "code",
      "metadata": {
        "colab": {
          "base_uri": "https://localhost:8080/",
          "height": 248
        },
        "id": "wLFlZmYpeuOH",
        "outputId": "18cf2a3b-f9b7-4f83-e8f6-bf94c518b7a6"
      },
      "source": [
        "x = np.array([35,25,25,15])\n",
        "mylabels = [\"Facebook\",\"Instagram\",\"What's App\", \"Slack\"]\n",
        "plt.pie(x, labels=mylabels)\n",
        "plt.show()"
      ],
      "execution_count": null,
      "outputs": [
        {
          "output_type": "display_data",
          "data": {
            "image/png": "[encoded data removed]",
            "text/plain": [
              "<Figure size 432x288 with 1 Axes>"
            ]
          },
          "metadata": {
            "tags": []
          }
        }
      ]
    },
    {
      "cell_type": "markdown",
      "metadata": {
        "id": "T4qxZFb_g9I-"
      },
      "source": [
        "#ML - Mean Median Mode \n",
        "\n",
        "Mean - The average value\n",
        "Median - The mid point value\n",
        "Mode - The most common value"
      ]
    },
    {
      "cell_type": "code",
      "metadata": {
        "id": "bawZx-hsfPyB"
      },
      "source": [
        "speed = [99,86,87,88, 111, 86, 103, 87, 94, 78, 77, 85, 86]"
      ],
      "execution_count": null,
      "outputs": []
    },
    {
      "cell_type": "code",
      "metadata": {
        "id": "SO1BOcB6hmeu"
      },
      "source": [
        "import numpy"
      ],
      "execution_count": null,
      "outputs": []
    },
    {
      "cell_type": "code",
      "metadata": {
        "colab": {
          "base_uri": "https://localhost:8080/"
        },
        "id": "OKn4kwgphqz4",
        "outputId": "93b5cea9-1d56-4a82-f4bb-d58cb330ad0a"
      },
      "source": [
        "X = numpy.mean(speed)\n",
        "print(X)"
      ],
      "execution_count": null,
      "outputs": [
        {
          "output_type": "stream",
          "text": [
            "89.76923076923077\n"
          ],
          "name": "stdout"
        }
      ]
    },
    {
      "cell_type": "code",
      "metadata": {
        "colab": {
          "base_uri": "https://localhost:8080/"
        },
        "id": "0SmaoieThvDz",
        "outputId": "6a742222-7480-4191-904f-d892eb8d4539"
      },
      "source": [
        "Y = numpy.median(speed)\n",
        "print(Y)"
      ],
      "execution_count": null,
      "outputs": [
        {
          "output_type": "stream",
          "text": [
            "87.0\n"
          ],
          "name": "stdout"
        }
      ]
    },
    {
      "cell_type": "code",
      "metadata": {
        "id": "RJjJyKpRh0gm"
      },
      "source": [
        "from scipy import stats"
      ],
      "execution_count": null,
      "outputs": []
    },
    {
      "cell_type": "code",
      "metadata": {
        "colab": {
          "base_uri": "https://localhost:8080/"
        },
        "id": "TWbBZvbOh8V_",
        "outputId": "dbb01a76-c857-4212-e0d6-68a43611e323"
      },
      "source": [
        "Z = stats.mode(speed)\n",
        "print(Z)"
      ],
      "execution_count": null,
      "outputs": [
        {
          "output_type": "stream",
          "text": [
            "ModeResult(mode=array([86]), count=array([3]))\n"
          ],
          "name": "stdout"
        }
      ]
    },
    {
      "cell_type": "markdown",
      "metadata": {
        "id": "nERpK5_AiTHa"
      },
      "source": [
        "#Standard Deviation"
      ]
    },
    {
      "cell_type": "code",
      "metadata": {
        "id": "LvnOtY_BiAp8"
      },
      "source": [
        "speed = [86,87,88,86,87,85,86]"
      ],
      "execution_count": null,
      "outputs": []
    },
    {
      "cell_type": "code",
      "metadata": {
        "id": "0aKaf9DSiqmF"
      },
      "source": [
        "x = numpy.std(speed)"
      ],
      "execution_count": null,
      "outputs": []
    },
    {
      "cell_type": "code",
      "metadata": {
        "colab": {
          "base_uri": "https://localhost:8080/"
        },
        "id": "jj3MF9VFivlN",
        "outputId": "6ba74769-6f1d-4c33-b416-ad2295c77ac9"
      },
      "source": [
        "x"
      ],
      "execution_count": null,
      "outputs": [
        {
          "output_type": "execute_result",
          "data": {
            "text/plain": [
              "0.9035079029052513"
            ]
          },
          "metadata": {
            "tags": []
          },
          "execution_count": 229
        }
      ]
    },
    {
      "cell_type": "markdown",
      "metadata": {
        "id": "uVYyWSkMi62h"
      },
      "source": [
        "#Variance"
      ]
    },
    {
      "cell_type": "code",
      "metadata": {
        "id": "j8kPg5_GiwEx"
      },
      "source": [
        "y = numpy.var(speed)"
      ],
      "execution_count": null,
      "outputs": []
    },
    {
      "cell_type": "code",
      "metadata": {
        "colab": {
          "base_uri": "https://localhost:8080/"
        },
        "id": "sRoaFmIHjDzo",
        "outputId": "843a241b-016c-48b9-ddd3-0a0a85d0988b"
      },
      "source": [
        "y"
      ],
      "execution_count": null,
      "outputs": [
        {
          "output_type": "execute_result",
          "data": {
            "text/plain": [
              "0.8163265306122449"
            ]
          },
          "metadata": {
            "tags": []
          },
          "execution_count": 231
        }
      ]
    },
    {
      "cell_type": "markdown",
      "metadata": {
        "id": "y_WGCphCjLD9"
      },
      "source": [
        "# Percentiles"
      ]
    },
    {
      "cell_type": "code",
      "metadata": {
        "id": "zIiROcN2jESJ"
      },
      "source": [
        "x = numpy.percentile(speed,87)"
      ],
      "execution_count": null,
      "outputs": []
    },
    {
      "cell_type": "code",
      "metadata": {
        "colab": {
          "base_uri": "https://localhost:8080/"
        },
        "id": "zDQGWaAVjoWY",
        "outputId": "57342c88-f96b-44b5-bdf6-7a9014e37009"
      },
      "source": [
        "x"
      ],
      "execution_count": null,
      "outputs": [
        {
          "output_type": "execute_result",
          "data": {
            "text/plain": [
              "87.22"
            ]
          },
          "metadata": {
            "tags": []
          },
          "execution_count": 233
        }
      ]
    },
    {
      "cell_type": "markdown",
      "metadata": {
        "id": "MLbyM1l4jzHL"
      },
      "source": [
        "# Normal Data Distribution"
      ]
    },
    {
      "cell_type": "code",
      "metadata": {
        "id": "VQD4N4fwjoyg"
      },
      "source": [
        "x = numpy.random.normal(5.0,1.0,100000)"
      ],
      "execution_count": null,
      "outputs": []
    },
    {
      "cell_type": "code",
      "metadata": {
        "colab": {
          "base_uri": "https://localhost:8080/",
          "height": 958
        },
        "id": "DDCkX_uLkEha",
        "outputId": "6a445765-ba89-4f2c-c88f-7442f66d3369"
      },
      "source": [
        "plt.hist(x,100)"
      ],
      "execution_count": null,
      "outputs": [
        {
          "output_type": "execute_result",
          "data": {
            "text/plain": [
              "(array([1.000e+00, 3.000e+00, 1.000e+00, 8.000e+00, 7.000e+00, 7.000e+00,\n",
              "        1.000e+01, 9.000e+00, 2.300e+01, 2.000e+01, 3.600e+01, 4.500e+01,\n",
              "        6.300e+01, 7.000e+01, 1.010e+02, 1.150e+02, 1.490e+02, 1.870e+02,\n",
              "        2.120e+02, 2.800e+02, 3.830e+02, 3.350e+02, 4.390e+02, 5.090e+02,\n",
              "        5.900e+02, 7.310e+02, 8.420e+02, 1.009e+03, 1.155e+03, 1.343e+03,\n",
              "        1.459e+03, 1.633e+03, 1.793e+03, 1.900e+03, 2.082e+03, 2.384e+03,\n",
              "        2.572e+03, 2.740e+03, 2.794e+03, 2.916e+03, 3.014e+03, 3.124e+03,\n",
              "        3.251e+03, 3.371e+03, 3.340e+03, 3.439e+03, 3.407e+03, 3.320e+03,\n",
              "        3.329e+03, 3.213e+03, 3.178e+03, 3.090e+03, 2.885e+03, 2.777e+03,\n",
              "        2.644e+03, 2.387e+03, 2.265e+03, 2.114e+03, 1.913e+03, 1.690e+03,\n",
              "        1.499e+03, 1.456e+03, 1.291e+03, 1.045e+03, 9.720e+02, 8.590e+02,\n",
              "        7.310e+02, 6.290e+02, 4.960e+02, 4.300e+02, 3.510e+02, 2.800e+02,\n",
              "        2.680e+02, 2.240e+02, 1.680e+02, 1.310e+02, 1.160e+02, 8.400e+01,\n",
              "        5.100e+01, 6.100e+01, 4.400e+01, 2.500e+01, 2.000e+01, 8.000e+00,\n",
              "        1.200e+01, 5.000e+00, 9.000e+00, 9.000e+00, 3.000e+00, 6.000e+00,\n",
              "        1.000e+00, 5.000e+00, 1.000e+00, 1.000e+00, 1.000e+00, 0.000e+00,\n",
              "        0.000e+00, 0.000e+00, 0.000e+00, 1.000e+00]),\n",
              " array([1.08189667, 1.167339  , 1.25278133, 1.33822367, 1.423666  ,\n",
              "        1.50910833, 1.59455066, 1.679993  , 1.76543533, 1.85087766,\n",
              "        1.93632   , 2.02176233, 2.10720466, 2.19264699, 2.27808933,\n",
              "        2.36353166, 2.44897399, 2.53441632, 2.61985866, 2.70530099,\n",
              "        2.79074332, 2.87618565, 2.96162799, 3.04707032, 3.13251265,\n",
              "        3.21795499, 3.30339732, 3.38883965, 3.47428198, 3.55972432,\n",
              "        3.64516665, 3.73060898, 3.81605131, 3.90149365, 3.98693598,\n",
              "        4.07237831, 4.15782064, 4.24326298, 4.32870531, 4.41414764,\n",
              "        4.49958998, 4.58503231, 4.67047464, 4.75591697, 4.84135931,\n",
              "        4.92680164, 5.01224397, 5.0976863 , 5.18312864, 5.26857097,\n",
              "        5.3540133 , 5.43945563, 5.52489797, 5.6103403 , 5.69578263,\n",
              "        5.78122496, 5.8666673 , 5.95210963, 6.03755196, 6.1229943 ,\n",
              "        6.20843663, 6.29387896, 6.37932129, 6.46476363, 6.55020596,\n",
              "        6.63564829, 6.72109062, 6.80653296, 6.89197529, 6.97741762,\n",
              "        7.06285995, 7.14830229, 7.23374462, 7.31918695, 7.40462929,\n",
              "        7.49007162, 7.57551395, 7.66095628, 7.74639862, 7.83184095,\n",
              "        7.91728328, 8.00272561, 8.08816795, 8.17361028, 8.25905261,\n",
              "        8.34449494, 8.42993728, 8.51537961, 8.60082194, 8.68626428,\n",
              "        8.77170661, 8.85714894, 8.94259127, 9.02803361, 9.11347594,\n",
              "        9.19891827, 9.2843606 , 9.36980294, 9.45524527, 9.5406876 ,\n",
              "        9.62612993]),\n",
              " <a list of 100 Patch objects>)"
            ]
          },
          "metadata": {
            "tags": []
          },
          "execution_count": 236
        },
        {
          "output_type": "display_data",
          "data": {
            "image/png": "[encoded data removed]",
            "text/plain": [
              "<Figure size 432x288 with 1 Axes>"
            ]
          },
          "metadata": {
            "tags": [],
            "needs_background": "light"
          }
        }
      ]
    },
    {
      "cell_type": "markdown",
      "metadata": {
        "id": "AR86OKkclf2O"
      },
      "source": [
        "# Linear Regression"
      ]
    },
    {
      "cell_type": "code",
      "metadata": {
        "colab": {
          "base_uri": "https://localhost:8080/",
          "height": 265
        },
        "id": "OD-5064nkHG4",
        "outputId": "86b63140-8933-48c3-e766-465aa3335969"
      },
      "source": [
        "x = [5,7,8,7,2,17,2,9,4,11,12,9,6]\n",
        "y = [99,86,87,88,111,86,103,87,94,78,77,85,86]\n",
        "plt.scatter(x,y)\n",
        "plt.show()"
      ],
      "execution_count": null,
      "outputs": [
        {
          "output_type": "display_data",
          "data": {
            "image/png": "[encoded data removed]",
            "text/plain": [
              "<Figure size 432x288 with 1 Axes>"
            ]
          },
          "metadata": {
            "tags": [],
            "needs_background": "light"
          }
        }
      ]
    },
    {
      "cell_type": "code",
      "metadata": {
        "id": "5I8pwx19lyk3"
      },
      "source": [
        "slope, intercept, r, p, std_err = stats.linregress(x,y)"
      ],
      "execution_count": null,
      "outputs": []
    },
    {
      "cell_type": "code",
      "metadata": {
        "id": "sis-suvKmCHW"
      },
      "source": [
        "def myfunc(x):\n",
        "  return slope* x + intercept"
      ],
      "execution_count": null,
      "outputs": []
    },
    {
      "cell_type": "code",
      "metadata": {
        "id": "QcWjNky4mInm"
      },
      "source": [
        "mymodel = list(map(myfunc, x))"
      ],
      "execution_count": null,
      "outputs": []
    },
    {
      "cell_type": "code",
      "metadata": {
        "colab": {
          "base_uri": "https://localhost:8080/",
          "height": 265
        },
        "id": "ila50Ih8mMov",
        "outputId": "095951e8-7114-4624-cdcb-f6241bc0df4b"
      },
      "source": [
        "plt.scatter(x,y)\n",
        "plt.plot(x,mymodel)\n",
        "plt.show()"
      ],
      "execution_count": null,
      "outputs": [
        {
          "output_type": "display_data",
          "data": {
            "image/png": "[encoded data removed]",
            "text/plain": [
              "<Figure size 432x288 with 1 Axes>"
            ]
          },
          "metadata": {
            "tags": [],
            "needs_background": "light"
          }
        }
      ]
    },
    {
      "cell_type": "markdown",
      "metadata": {
        "id": "0MhqKQZimx34"
      },
      "source": [
        "# Polynomial Regression"
      ]
    },
    {
      "cell_type": "code",
      "metadata": {
        "colab": {
          "base_uri": "https://localhost:8080/",
          "height": 265
        },
        "id": "E3NcBM7kmT86",
        "outputId": "e139ec30-2775-4ab7-ea25-a7db72d503cf"
      },
      "source": [
        "x = [1,2,3,5,6,7,8,9,10,12,13,14,15,16,18,19,21,22]\n",
        "y = [100,90,80,60,60,55,60,65,70,70,75,76,78,79,90,99,99,100]\n",
        "plt.scatter(x,y)\n",
        "plt.show()"
      ],
      "execution_count": null,
      "outputs": [
        {
          "output_type": "display_data",
          "data": {
            "image/png": "[encoded data removed]",
            "text/plain": [
              "<Figure size 432x288 with 1 Axes>"
            ]
          },
          "metadata": {
            "tags": [],
            "needs_background": "light"
          }
        }
      ]
    },
    {
      "cell_type": "code",
      "metadata": {
        "id": "eOMkXAD2nOjK"
      },
      "source": [
        "mymodel = numpy.poly1d(numpy.polyfit(x,y,3))"
      ],
      "execution_count": null,
      "outputs": []
    },
    {
      "cell_type": "code",
      "metadata": {
        "id": "afCaw2dCndh1"
      },
      "source": [
        "myline = numpy.linspace(1,22,100)"
      ],
      "execution_count": null,
      "outputs": []
    },
    {
      "cell_type": "code",
      "metadata": {
        "colab": {
          "base_uri": "https://localhost:8080/",
          "height": 265
        },
        "id": "2iOFjL-pnh5B",
        "outputId": "bfc2c40b-306b-480e-c53d-ba6a864eee43"
      },
      "source": [
        "plt.scatter(x,y)\n",
        "plt.plot(myline, mymodel(myline))\n",
        "plt.show()"
      ],
      "execution_count": null,
      "outputs": [
        {
          "output_type": "display_data",
          "data": {
            "image/png": "[encoded data removed]",
            "text/plain": [
              "<Figure size 432x288 with 1 Axes>"
            ]
          },
          "metadata": {
            "tags": [],
            "needs_background": "light"
          }
        }
      ]
    },
    {
      "cell_type": "code",
      "metadata": {
        "colab": {
          "base_uri": "https://localhost:8080/"
        },
        "id": "sDeNI40PnqG0",
        "outputId": "90b1fc3d-e4c5-4090-8ac1-37a5a8b1d8bf"
      },
      "source": [
        "value = mymodel(17)\n",
        "print(value)"
      ],
      "execution_count": null,
      "outputs": [
        {
          "output_type": "stream",
          "text": [
            "88.87331269697997\n"
          ],
          "name": "stdout"
        }
      ]
    },
    {
      "cell_type": "code",
      "metadata": {
        "id": "LaTjqJupn5Qg"
      },
      "source": [],
      "execution_count": null,
      "outputs": []
    }
  ]
}